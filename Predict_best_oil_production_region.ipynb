{
 "cells": [
  {
   "cell_type": "markdown",
   "metadata": {
    "toc": true
   },
   "source": [
    "<h1>Table of Contents<span class=\"tocSkip\"></span></h1>\n",
    "<div class=\"toc\"><ul class=\"toc-item\"><li><span><a href=\"#Описание-проекта\" data-toc-modified-id=\"Описание-проекта-1\"><span class=\"toc-item-num\">1&nbsp;&nbsp;</span>Описание проекта</a></span></li><li><span><a href=\"#Знакомство-и-изучение-данных\" data-toc-modified-id=\"Знакомство-и-изучение-данных-2\"><span class=\"toc-item-num\">2&nbsp;&nbsp;</span>Знакомство и изучение данных</a></span></li><li><span><a href=\"#Формализация-задачи-и-план-работы\" data-toc-modified-id=\"Формализация-задачи-и-план-работы-3\"><span class=\"toc-item-num\">3&nbsp;&nbsp;</span>Формализация задачи и план работы</a></span></li><li><span><a href=\"#Подготовка-данных-для-машинного-обучения\" data-toc-modified-id=\"Подготовка-данных-для-машинного-обучения-4\"><span class=\"toc-item-num\">4&nbsp;&nbsp;</span>Подготовка данных для машинного обучения</a></span></li><li><span><a href=\"#Построение-моделей-линейной-регрессии\" data-toc-modified-id=\"Построение-моделей-линейной-регрессии-5\"><span class=\"toc-item-num\">5&nbsp;&nbsp;</span>Построение моделей линейной регрессии</a></span><ul class=\"toc-item\"><li><span><a href=\"#Кросс-валидация-и-оценка-RMSE\" data-toc-modified-id=\"Кросс-валидация-и-оценка-RMSE-5.1\"><span class=\"toc-item-num\">5.1&nbsp;&nbsp;</span>Кросс-валидация и оценка RMSE</a></span></li><li><span><a href=\"#Оценка-среднего-запаса-сырья-(предсказания-на-тестовых-данных)\" data-toc-modified-id=\"Оценка-среднего-запаса-сырья-(предсказания-на-тестовых-данных)-5.2\"><span class=\"toc-item-num\">5.2&nbsp;&nbsp;</span>Оценка среднего запаса сырья (предсказания на тестовых данных)</a></span></li><li><span><a href=\"#RMSE-на-тестовой-выборке\" data-toc-modified-id=\"RMSE-на-тестовой-выборке-5.3\"><span class=\"toc-item-num\">5.3&nbsp;&nbsp;</span>RMSE на тестовой выборке</a></span></li></ul></li><li><span><a href=\"#Подготовка-к-расчету-прибыли-в-регионах\" data-toc-modified-id=\"Подготовка-к-расчету-прибыли-в-регионах-6\"><span class=\"toc-item-num\">6&nbsp;&nbsp;</span>Подготовка к расчету прибыли в регионах</a></span><ul class=\"toc-item\"><li><span><a href=\"#Возможности--для-безубыточной-разработки\" data-toc-modified-id=\"Возможности--для-безубыточной-разработки-6.1\"><span class=\"toc-item-num\">6.1&nbsp;&nbsp;</span>Возможности  для безубыточной разработки</a></span></li><li><span><a href=\"#Расчет-прибыли-с-использованием-модели\" data-toc-modified-id=\"Расчет-прибыли-с-использованием-модели-6.2\"><span class=\"toc-item-num\">6.2&nbsp;&nbsp;</span>Расчет прибыли с использованием модели</a></span></li></ul></li><li><span><a href=\"#Оценка-вероятности-прибыли-и-рисков--(bootstrap)-в-регионах\" data-toc-modified-id=\"Оценка-вероятности-прибыли-и-рисков--(bootstrap)-в-регионах-7\"><span class=\"toc-item-num\">7&nbsp;&nbsp;</span>Оценка вероятности прибыли и рисков  (bootstrap) в регионах</a></span></li><li><span><a href=\"#Общий-вывод\" data-toc-modified-id=\"Общий-вывод-8\"><span class=\"toc-item-num\">8&nbsp;&nbsp;</span>Общий вывод</a></span></li></ul></div>"
   ]
  },
  {
   "cell_type": "markdown",
   "metadata": {},
   "source": [
    "# Предсказание прибыльного региона нефтедобычи"
   ]
  },
  {
   "cell_type": "markdown",
   "metadata": {},
   "source": [
    "## Описание проекта"
   ]
  },
  {
   "cell_type": "markdown",
   "metadata": {},
   "source": [
    "\n",
    "**ПРОБЛЕМА:**\n",
    "\n",
    "В добывающей компании необходимо принять решение, в каком **из 3-х регионов** бурить новую скважину.\n",
    "\n",
    "В каждом регионе `10 000 месторождений`, где измерили **качество** нефти в каждой скважине и **объём** её запасов. \n",
    "\n",
    "**ЦЕЛЬ ПРОЕКТА:**\n",
    "\n",
    "Построить модель машинного обучения, которая поможет определить `лучший регион`:\n",
    "\n",
    "- c **наибольшей прибылью** от добычи нефти\n",
    "- c учетом оценки `возможных рисков`\n",
    "\n",
    "В нашем распоряжении `3 датасета` с пробами нефти в каждом из регионов.\n",
    "\n",
    "---\n",
    "\n",
    "**ЛИЧНЫЕ ЦЕЛИ:**\n",
    "\n",
    "- Научиться `интерпретировать качество` моделей с помощью метрики **RMSE**\n",
    "- На практике связать модели ML с **бизнес-задачами**  \n",
    "- Применить знания по технике `Bootstrap` для оценки **прибыли** и **рисков**"
   ]
  },
  {
   "cell_type": "code",
   "execution_count": 1,
   "metadata": {},
   "outputs": [],
   "source": [
    "import numpy as np\n",
    "import pandas as pd\n",
    "\n",
    "#Графики\n",
    "import matplotlib.pyplot as plt\n",
    "import seaborn as sns\n",
    "\n",
    "# Модели машинного обучения\n",
    "from sklearn.linear_model import LinearRegression\n",
    "\n",
    "# Метрики\n",
    "from sklearn.metrics import mean_squared_error\n",
    "\n",
    "#Dummy - baseline классификатор\n",
    "from sklearn.dummy import DummyClassifier\n",
    "\n",
    "from sklearn.model_selection import train_test_split, validation_curve, learning_curve,  cross_val_score\n"
   ]
  },
  {
   "cell_type": "code",
   "execution_count": 2,
   "metadata": {},
   "outputs": [],
   "source": [
    "# Функция learning_curve, которую мы написали в прошлых проектах\n",
    "\n",
    "def plot_learning_curve (title, model, features, target, score, train_sizes): \n",
    "    \n",
    "    '''\n",
    "    Использует встроенную функцию learning_curve\n",
    "    и рисует кривые валидации на отдельном графике\n",
    "    '''\n",
    "    \n",
    "    train_sizes,train_scores, validation_scores = learning_curve(\n",
    "                                                estimator =  model,\n",
    "                                                X = features,                                      \n",
    "                                                y = target,        \n",
    "                                                scoring = score,\n",
    "                                                train_sizes = train_sizes, shuffle=True)                                        \n",
    "                                              \n",
    "        \n",
    "    # метрики качества модели, которые мы получили для обучающих датасетов cv=5\n",
    "    # вычисляем среднее арифметическое для графика кривой\n",
    "    train_scores_mean = train_scores.mean(axis = 1)\n",
    "    validation_scores_mean = validation_scores.mean(axis = 1)\n",
    "\n",
    "    plt.style.use('seaborn')\n",
    "    plt.plot(train_sizes, train_scores_mean, label = 'Training error')\n",
    "    plt.plot(train_sizes, validation_scores_mean, label = 'Validation error')\n",
    "    plt.ylabel(score, fontsize = 14)\n",
    "    plt.xlabel('Training set size', fontsize = 14)\n",
    "    plt.title(title, fontsize = 18, y = 1.03)\n",
    "    plt.legend()\n",
    "    plt.ylim(-50, 0)\n",
    "    \n",
    "    plt.show()"
   ]
  },
  {
   "cell_type": "markdown",
   "metadata": {},
   "source": [
    "## Знакомство и изучение данных"
   ]
  },
  {
   "cell_type": "code",
   "execution_count": 3,
   "metadata": {},
   "outputs": [
    {
     "data": {
      "text/html": [
       "<div>\n",
       "<style scoped>\n",
       "    .dataframe tbody tr th:only-of-type {\n",
       "        vertical-align: middle;\n",
       "    }\n",
       "\n",
       "    .dataframe tbody tr th {\n",
       "        vertical-align: top;\n",
       "    }\n",
       "\n",
       "    .dataframe thead th {\n",
       "        text-align: right;\n",
       "    }\n",
       "</style>\n",
       "<table border=\"1\" class=\"dataframe\">\n",
       "  <thead>\n",
       "    <tr style=\"text-align: right;\">\n",
       "      <th></th>\n",
       "      <th>id</th>\n",
       "      <th>f0</th>\n",
       "      <th>f1</th>\n",
       "      <th>f2</th>\n",
       "      <th>product</th>\n",
       "    </tr>\n",
       "  </thead>\n",
       "  <tbody>\n",
       "    <tr>\n",
       "      <th>0</th>\n",
       "      <td>txEyH</td>\n",
       "      <td>0.705745</td>\n",
       "      <td>-0.497823</td>\n",
       "      <td>1.221170</td>\n",
       "      <td>105.280062</td>\n",
       "    </tr>\n",
       "    <tr>\n",
       "      <th>1</th>\n",
       "      <td>2acmU</td>\n",
       "      <td>1.334711</td>\n",
       "      <td>-0.340164</td>\n",
       "      <td>4.365080</td>\n",
       "      <td>73.037750</td>\n",
       "    </tr>\n",
       "    <tr>\n",
       "      <th>2</th>\n",
       "      <td>409Wp</td>\n",
       "      <td>1.022732</td>\n",
       "      <td>0.151990</td>\n",
       "      <td>1.419926</td>\n",
       "      <td>85.265647</td>\n",
       "    </tr>\n",
       "    <tr>\n",
       "      <th>3</th>\n",
       "      <td>iJLyR</td>\n",
       "      <td>-0.032172</td>\n",
       "      <td>0.139033</td>\n",
       "      <td>2.978566</td>\n",
       "      <td>168.620776</td>\n",
       "    </tr>\n",
       "    <tr>\n",
       "      <th>4</th>\n",
       "      <td>Xdl7t</td>\n",
       "      <td>1.988431</td>\n",
       "      <td>0.155413</td>\n",
       "      <td>4.751769</td>\n",
       "      <td>154.036647</td>\n",
       "    </tr>\n",
       "    <tr>\n",
       "      <th>5</th>\n",
       "      <td>wX4Hy</td>\n",
       "      <td>0.969570</td>\n",
       "      <td>0.489775</td>\n",
       "      <td>-0.735383</td>\n",
       "      <td>64.741541</td>\n",
       "    </tr>\n",
       "    <tr>\n",
       "      <th>6</th>\n",
       "      <td>tL6pL</td>\n",
       "      <td>0.645075</td>\n",
       "      <td>0.530656</td>\n",
       "      <td>1.780266</td>\n",
       "      <td>49.055285</td>\n",
       "    </tr>\n",
       "  </tbody>\n",
       "</table>\n",
       "</div>"
      ],
      "text/plain": [
       "      id        f0        f1        f2     product\n",
       "0  txEyH  0.705745 -0.497823  1.221170  105.280062\n",
       "1  2acmU  1.334711 -0.340164  4.365080   73.037750\n",
       "2  409Wp  1.022732  0.151990  1.419926   85.265647\n",
       "3  iJLyR -0.032172  0.139033  2.978566  168.620776\n",
       "4  Xdl7t  1.988431  0.155413  4.751769  154.036647\n",
       "5  wX4Hy  0.969570  0.489775 -0.735383   64.741541\n",
       "6  tL6pL  0.645075  0.530656  1.780266   49.055285"
      ]
     },
     "metadata": {},
     "output_type": "display_data"
    },
    {
     "data": {
      "text/html": [
       "<div>\n",
       "<style scoped>\n",
       "    .dataframe tbody tr th:only-of-type {\n",
       "        vertical-align: middle;\n",
       "    }\n",
       "\n",
       "    .dataframe tbody tr th {\n",
       "        vertical-align: top;\n",
       "    }\n",
       "\n",
       "    .dataframe thead th {\n",
       "        text-align: right;\n",
       "    }\n",
       "</style>\n",
       "<table border=\"1\" class=\"dataframe\">\n",
       "  <thead>\n",
       "    <tr style=\"text-align: right;\">\n",
       "      <th></th>\n",
       "      <th>id</th>\n",
       "      <th>f0</th>\n",
       "      <th>f1</th>\n",
       "      <th>f2</th>\n",
       "      <th>product</th>\n",
       "    </tr>\n",
       "  </thead>\n",
       "  <tbody>\n",
       "    <tr>\n",
       "      <th>0</th>\n",
       "      <td>kBEdx</td>\n",
       "      <td>-15.001348</td>\n",
       "      <td>-8.276000</td>\n",
       "      <td>-0.005876</td>\n",
       "      <td>3.179103</td>\n",
       "    </tr>\n",
       "    <tr>\n",
       "      <th>1</th>\n",
       "      <td>62mP7</td>\n",
       "      <td>14.272088</td>\n",
       "      <td>-3.475083</td>\n",
       "      <td>0.999183</td>\n",
       "      <td>26.953261</td>\n",
       "    </tr>\n",
       "    <tr>\n",
       "      <th>2</th>\n",
       "      <td>vyE1P</td>\n",
       "      <td>6.263187</td>\n",
       "      <td>-5.948386</td>\n",
       "      <td>5.001160</td>\n",
       "      <td>134.766305</td>\n",
       "    </tr>\n",
       "    <tr>\n",
       "      <th>3</th>\n",
       "      <td>KcrkZ</td>\n",
       "      <td>-13.081196</td>\n",
       "      <td>-11.506057</td>\n",
       "      <td>4.999415</td>\n",
       "      <td>137.945408</td>\n",
       "    </tr>\n",
       "    <tr>\n",
       "      <th>4</th>\n",
       "      <td>AHL4O</td>\n",
       "      <td>12.702195</td>\n",
       "      <td>-8.147433</td>\n",
       "      <td>5.004363</td>\n",
       "      <td>134.766305</td>\n",
       "    </tr>\n",
       "    <tr>\n",
       "      <th>5</th>\n",
       "      <td>HHckp</td>\n",
       "      <td>-3.327590</td>\n",
       "      <td>-2.205276</td>\n",
       "      <td>3.003647</td>\n",
       "      <td>84.038886</td>\n",
       "    </tr>\n",
       "    <tr>\n",
       "      <th>6</th>\n",
       "      <td>h5Ujo</td>\n",
       "      <td>-11.142655</td>\n",
       "      <td>-10.133399</td>\n",
       "      <td>4.002382</td>\n",
       "      <td>110.992147</td>\n",
       "    </tr>\n",
       "  </tbody>\n",
       "</table>\n",
       "</div>"
      ],
      "text/plain": [
       "      id         f0         f1        f2     product\n",
       "0  kBEdx -15.001348  -8.276000 -0.005876    3.179103\n",
       "1  62mP7  14.272088  -3.475083  0.999183   26.953261\n",
       "2  vyE1P   6.263187  -5.948386  5.001160  134.766305\n",
       "3  KcrkZ -13.081196 -11.506057  4.999415  137.945408\n",
       "4  AHL4O  12.702195  -8.147433  5.004363  134.766305\n",
       "5  HHckp  -3.327590  -2.205276  3.003647   84.038886\n",
       "6  h5Ujo -11.142655 -10.133399  4.002382  110.992147"
      ]
     },
     "metadata": {},
     "output_type": "display_data"
    },
    {
     "data": {
      "text/html": [
       "<div>\n",
       "<style scoped>\n",
       "    .dataframe tbody tr th:only-of-type {\n",
       "        vertical-align: middle;\n",
       "    }\n",
       "\n",
       "    .dataframe tbody tr th {\n",
       "        vertical-align: top;\n",
       "    }\n",
       "\n",
       "    .dataframe thead th {\n",
       "        text-align: right;\n",
       "    }\n",
       "</style>\n",
       "<table border=\"1\" class=\"dataframe\">\n",
       "  <thead>\n",
       "    <tr style=\"text-align: right;\">\n",
       "      <th></th>\n",
       "      <th>id</th>\n",
       "      <th>f0</th>\n",
       "      <th>f1</th>\n",
       "      <th>f2</th>\n",
       "      <th>product</th>\n",
       "    </tr>\n",
       "  </thead>\n",
       "  <tbody>\n",
       "    <tr>\n",
       "      <th>0</th>\n",
       "      <td>fwXo0</td>\n",
       "      <td>-1.146987</td>\n",
       "      <td>0.963328</td>\n",
       "      <td>-0.828965</td>\n",
       "      <td>27.758673</td>\n",
       "    </tr>\n",
       "    <tr>\n",
       "      <th>1</th>\n",
       "      <td>WJtFt</td>\n",
       "      <td>0.262778</td>\n",
       "      <td>0.269839</td>\n",
       "      <td>-2.530187</td>\n",
       "      <td>56.069697</td>\n",
       "    </tr>\n",
       "    <tr>\n",
       "      <th>2</th>\n",
       "      <td>ovLUW</td>\n",
       "      <td>0.194587</td>\n",
       "      <td>0.289035</td>\n",
       "      <td>-5.586433</td>\n",
       "      <td>62.871910</td>\n",
       "    </tr>\n",
       "    <tr>\n",
       "      <th>3</th>\n",
       "      <td>q6cA6</td>\n",
       "      <td>2.236060</td>\n",
       "      <td>-0.553760</td>\n",
       "      <td>0.930038</td>\n",
       "      <td>114.572842</td>\n",
       "    </tr>\n",
       "    <tr>\n",
       "      <th>4</th>\n",
       "      <td>WPMUX</td>\n",
       "      <td>-0.515993</td>\n",
       "      <td>1.716266</td>\n",
       "      <td>5.899011</td>\n",
       "      <td>149.600746</td>\n",
       "    </tr>\n",
       "    <tr>\n",
       "      <th>5</th>\n",
       "      <td>LzZXx</td>\n",
       "      <td>-0.758092</td>\n",
       "      <td>0.710691</td>\n",
       "      <td>2.585887</td>\n",
       "      <td>90.222465</td>\n",
       "    </tr>\n",
       "    <tr>\n",
       "      <th>6</th>\n",
       "      <td>WBHRv</td>\n",
       "      <td>-0.574891</td>\n",
       "      <td>0.317727</td>\n",
       "      <td>1.773745</td>\n",
       "      <td>45.641478</td>\n",
       "    </tr>\n",
       "  </tbody>\n",
       "</table>\n",
       "</div>"
      ],
      "text/plain": [
       "      id        f0        f1        f2     product\n",
       "0  fwXo0 -1.146987  0.963328 -0.828965   27.758673\n",
       "1  WJtFt  0.262778  0.269839 -2.530187   56.069697\n",
       "2  ovLUW  0.194587  0.289035 -5.586433   62.871910\n",
       "3  q6cA6  2.236060 -0.553760  0.930038  114.572842\n",
       "4  WPMUX -0.515993  1.716266  5.899011  149.600746\n",
       "5  LzZXx -0.758092  0.710691  2.585887   90.222465\n",
       "6  WBHRv -0.574891  0.317727  1.773745   45.641478"
      ]
     },
     "metadata": {},
     "output_type": "display_data"
    }
   ],
   "source": [
    "data1 = pd.read_csv(\"/datasets/geo_data_0.csv\") \n",
    "data2 = pd.read_csv(\"/datasets/geo_data_1.csv\") \n",
    "data3 = pd.read_csv(\"/datasets/geo_data_2.csv\") \n",
    "\n",
    "for d in [data1, data2, data3]:\n",
    "    display(d.head(7))"
   ]
  },
  {
   "cell_type": "markdown",
   "metadata": {},
   "source": [
    "**Вывод 1**\n",
    "\n",
    "Нам предоставили данные о каждой скважине в регионах:\n",
    "\n",
    "- `id` — уникальный идентификатор скважины\n",
    "- `f0, f1, f2` — три признака точек (их значение не разглашают, но специалисты уверяют -  сами признаки значимы)\n",
    "- `product` — объём запасов в скважине. (!) `тысяч баррелей`\n",
    "\n",
    "Последний столбец - целевой признак, который мы можем научиться предсказывать.\n",
    "\n",
    "Сделаем небольшую оценку **для каждого региона**."
   ]
  },
  {
   "cell_type": "code",
   "execution_count": 4,
   "metadata": {},
   "outputs": [
    {
     "name": "stdout",
     "output_type": "stream",
     "text": [
      "==> Cкважины в Регионе №1 <==\n",
      "\n",
      "Количество скважин:100000 \n",
      "\n",
      "                  f0             f1             f2        product\n",
      "count  100000.000000  100000.000000  100000.000000  100000.000000\n",
      "mean        0.500419       0.250143       2.502647      92.500000\n",
      "std         0.871832       0.504433       3.248248      44.288691\n",
      "min        -1.408605      -0.848218     -12.088328       0.000000\n",
      "25%        -0.072580      -0.200881       0.287748      56.497507\n",
      "50%         0.502360       0.250252       2.515969      91.849972\n",
      "75%         1.073581       0.700646       4.715088     128.564089\n",
      "max         2.362331       1.343769      16.003790     185.364347 \n",
      "\n",
      "==> Cкважины в Регионе №2 <==\n",
      "\n",
      "Количество скважин:100000 \n",
      "\n",
      "                  f0             f1             f2        product\n",
      "count  100000.000000  100000.000000  100000.000000  100000.000000\n",
      "mean        1.141296      -4.796579       2.494541      68.825000\n",
      "std         8.965932       5.119872       1.703572      45.944423\n",
      "min       -31.609576     -26.358598      -0.018144       0.000000\n",
      "25%        -6.298551      -8.267985       1.000021      26.953261\n",
      "50%         1.153055      -4.813172       2.011479      57.085625\n",
      "75%         8.621015      -1.332816       3.999904     107.813044\n",
      "max        29.421755      18.734063       5.019721     137.945408 \n",
      "\n",
      "==> Cкважины в Регионе №3 <==\n",
      "\n",
      "Количество скважин:100000 \n",
      "\n",
      "                  f0             f1             f2        product\n",
      "count  100000.000000  100000.000000  100000.000000  100000.000000\n",
      "mean        0.002023      -0.002081       2.495128      95.000000\n",
      "std         1.732045       1.730417       3.473445      44.749921\n",
      "min        -8.760004      -7.084020     -11.970335       0.000000\n",
      "25%        -1.162288      -1.174820       0.130359      59.450441\n",
      "50%         0.009424      -0.009482       2.484236      94.925613\n",
      "75%         1.158535       1.163678       4.858794     130.595027\n",
      "max         7.238262       7.844801      16.739402     190.029838 \n",
      "\n"
     ]
    }
   ],
   "source": [
    "for i, data in zip(range(1, 4), [data1, data2, data3]):\n",
    "    print(f\"==> Cкважины в Регионе №{i} <==\\n\")\n",
    "    print(f\"Количество скважин:{data.shape[0]} \\n\")\n",
    "    print(data.describe(), '\\n')"
   ]
  },
  {
   "cell_type": "markdown",
   "metadata": {},
   "source": [
    "- Невооруженным глазом видно, что все признаки скважин f0, f1 и f2 **по-разному распределены** в 3-х регионах. \n",
    "\n",
    "\n",
    "- Средние объемы запасов нефти в сважинах также сильно различаются.\n",
    "\n",
    "Попробуем визуализировать каждый регион!"
   ]
  },
  {
   "cell_type": "code",
   "execution_count": 5,
   "metadata": {
    "scrolled": true
   },
   "outputs": [
    {
     "data": {
      "image/png": "[encoded data removed]",
      "text/plain": [
       "<Figure size 432x288 with 1 Axes>"
      ]
     },
     "metadata": {
      "needs_background": "light"
     },
     "output_type": "display_data"
    },
    {
     "data": {
      "image/png": "[encoded data removed]",
      "text/plain": [
       "<Figure size 432x288 with 1 Axes>"
      ]
     },
     "metadata": {
      "needs_background": "light"
     },
     "output_type": "display_data"
    },
    {
     "data": {
      "image/png": "[encoded data removed]",
      "text/plain": [
       "<Figure size 432x288 with 1 Axes>"
      ]
     },
     "metadata": {
      "needs_background": "light"
     },
     "output_type": "display_data"
    },
    {
     "data": {
      "image/png": "[encoded data removed]",
      "text/plain": [
       "<Figure size 432x288 with 1 Axes>"
      ]
     },
     "metadata": {
      "needs_background": "light"
     },
     "output_type": "display_data"
    }
   ],
   "source": [
    "for col in ['f0', 'f1', 'f2', 'product']:   \n",
    "    fig, ax = plt.subplots()\n",
    "    \n",
    "    for data in [data3, data2, data1]:\n",
    "        data[col].hist(alpha=0.6)   \n",
    "  \n",
    "    plt.title(label=f\"Распределение {col} в разных регионах\")\n",
    "    plt.xlabel(f\"Признак скважины {col}\")\n",
    "    plt.ylabel(\"Количество скважин\")\n",
    "    ax.legend([\"Регион №1\", \"Регион №2\", \"Регион №3\"])\n",
    "    plt.show()"
   ]
  },
  {
   "cell_type": "markdown",
   "metadata": {},
   "source": [
    "**Регион №2** - самый самобытный по своим показателям, перенесем его на отдельный график)"
   ]
  },
  {
   "cell_type": "code",
   "execution_count": 6,
   "metadata": {},
   "outputs": [
    {
     "data": {
      "image/png": "[encoded data removed]",
      "text/plain": [
       "<Figure size 1080x360 with 2 Axes>"
      ]
     },
     "metadata": {
      "needs_background": "light"
     },
     "output_type": "display_data"
    },
    {
     "data": {
      "image/png": "[encoded data removed]",
      "text/plain": [
       "<Figure size 1080x360 with 2 Axes>"
      ]
     },
     "metadata": {
      "needs_background": "light"
     },
     "output_type": "display_data"
    },
    {
     "data": {
      "image/png": "[encoded data removed]",
      "text/plain": [
       "<Figure size 1080x360 with 2 Axes>"
      ]
     },
     "metadata": {
      "needs_background": "light"
     },
     "output_type": "display_data"
    },
    {
     "data": {
      "image/png": "[encoded data removed]",
      "text/plain": [
       "<Figure size 1080x360 with 2 Axes>"
      ]
     },
     "metadata": {
      "needs_background": "light"
     },
     "output_type": "display_data"
    }
   ],
   "source": [
    "for col in ['f0', 'f1', 'f2', 'product']:   \n",
    "    fig, axes = plt.subplots(1, 2, figsize=(15,5))\n",
    "    \n",
    "    # Слева строим график для регионов 1 и 3\n",
    "    for data in [data1, data3]:\n",
    "        ax = data[col].plot(ax=axes[0],  kind='hist', alpha=0.5)                      \n",
    "    \n",
    "    ax.set_title(f\"Распределение признака {col} в Регионе №1 и №3\", fontsize = 16) \n",
    "    ax.set_xlabel(f\"Признак скважины {col}\", fontsize = 14)\n",
    "    ax.set_ylabel(\"Количество скважин\", fontsize = 14)\n",
    "      \n",
    "    ax.legend([\"Регион №1\", \"Регион №3\"], fontsize=14)    \n",
    "    \n",
    "    # Справа строим график для региона 2\n",
    "    ax = data2[col].hist(ax=axes[1]) \n",
    "    ax.set_title(f\"Распределение признака {col} в Регионе №2\", fontsize = 16)\n",
    "        \n",
    "    ax.set_xlabel(f\"Признак скважины {col}\", fontsize = 14)\n",
    "    ax.set_ylabel(\"Количество скважин\", fontsize = 14)\n",
    "    \n",
    "    plt.show()"
   ]
  },
  {
   "cell_type": "markdown",
   "metadata": {},
   "source": [
    "**Вывод 2**\n",
    "\n",
    "Мы имеем данные о `100 000 скважинах` в каждом из регионов.\n",
    "\n",
    "\n",
    "Характеристики скважин в **Регионе №2** сильно отличаются от остальных.\n",
    "\n",
    ">`Product`:\n",
    "- В регионах №1 и №3 распределения объемов нефти (`product`) близки к нормальному и практически совпадают.\n",
    "\n",
    "\n",
    "- В регионе №2 сильно преобладают скважины с минимальными и максимальными объемами запасов нефти.\n",
    "\n",
    "\n",
    "- При этом максимальные запасы в скважинах ~ 137 тыс., а в регионах №1,3  - 190 тыс. баррелей\n",
    "\n",
    ">Характеристики `f0` и `f1`:\n",
    "\n",
    "Параметры имеют примерно одинаковые диапазоны. В каждом регионе он свой, условно можно разделить по убыванию:\n",
    "\n",
    "- Регион №2 - (-20, 20)\n",
    "- Регион №3 - (-6, 6)\n",
    "- Регион №1 - (-2, 2)\n",
    "\n",
    ">Характеристика `f2`:\n",
    "\n",
    "- В регионах №1 и №3 имеет **одинаковое распределение** и ~ диапазон (-10, 15)\n",
    "\n",
    "\n",
    "- В регионе №2 **много выбросов** и более узкий диапазон (0, 5). Для скважин характерны лишь определенные признаки.\n",
    "Именно этим объясняется отличие распределения объемов нефти в скважинах?\n",
    "\n",
    "=================\n",
    "\n",
    "Возможно, в Регионе №2 есть какие-то особенности месторождений. Такие нюансы можно уточнить только у экспертов.\n",
    "\n",
    "Делаем вывод, что для **предсказания объемов нефти** в скважинах требуется построить  **отдельную модель** для каждого региона.\n",
    "\n",
    "Посмотрим, требуется ли какая-то предобработка для данных."
   ]
  },
  {
   "cell_type": "code",
   "execution_count": 7,
   "metadata": {},
   "outputs": [
    {
     "name": "stdout",
     "output_type": "stream",
     "text": [
      "Пропуски в данных:\n",
      "id         0\n",
      "f0         0\n",
      "f1         0\n",
      "f2         0\n",
      "product    0\n",
      "dtype: int64\n",
      "id         0\n",
      "f0         0\n",
      "f1         0\n",
      "f2         0\n",
      "product    0\n",
      "dtype: int64\n",
      "id         0\n",
      "f0         0\n",
      "f1         0\n",
      "f2         0\n",
      "product    0\n",
      "dtype: int64\n"
     ]
    }
   ],
   "source": [
    "print(\"Пропуски в данных:\")\n",
    "for i in [data1, data2, data3]:    \n",
    "    print(data.isna().sum())"
   ]
  },
  {
   "cell_type": "markdown",
   "metadata": {},
   "source": [
    "**Вывод 3**\n",
    "\n",
    "Данные очищены, как хороший нефтяной продукт:) Можем двигаться к постановке задачи."
   ]
  },
  {
   "cell_type": "markdown",
   "metadata": {},
   "source": [
    "## Формализация задачи и план работы"
   ]
  },
  {
   "cell_type": "markdown",
   "metadata": {},
   "source": [
    "Итак, имея данные о скважинах мы можем построить модели для предсказания **объемов нефти в скважине**.\n",
    "\n",
    "А как связать этот показатель с бизнес-задачей и **прибылью в регионе**?\n",
    "\n",
    "======================================================\n",
    "\n",
    "В целом в нефтяных компаниях используется такой подход:\n",
    "\n",
    "1. В избранном регионе ищут месторождения, для каждого определяют значения признаков\n",
    "\n",
    "\n",
    "2. Строят модель для оценки объемов нефти по имеющимся признакам\n",
    "\n",
    "\n",
    "3. Выбирают месторождения с самым высокими оценками значений. Количество месторождений зависит от бюджета компании и стоимости разработки одной скважины;\n",
    "\n",
    "\n",
    "4. Прибыль равна суммарной прибыли отобранных месторождений.\n",
    "\n",
    "\n",
    "Отлично! Теперь для проекта нам не хватает только вводных об **актуальных ценах**, **бюджете** и ограничениях **количества месторождений**.\n",
    "\n",
    "=======================================================\n",
    "\n",
    "Вот они, **дополнительные условия**:\n",
    "\n",
    "- Бюджет на разработку скважин в регионе — `10 млрд рублей`\n",
    "\n",
    "\n",
    "- При разведке региона `исследуют 500 точек`, из которых с помощью машинного обучения `выбирают 200 лучших` для разработки.\n",
    "\n",
    "\n",
    "- `Один баррель` сырья приносит `450 рублей дохода`. Доход с каждой единицы `product` составляет 450 тыс. рублей, так как объём указан в тысячах баррелей."
   ]
  },
  {
   "cell_type": "markdown",
   "metadata": {},
   "source": [
    "**ПЛАН РАБОТЫ:**\n",
    "\n",
    "1.Для каждого региона мы построим  и обучим модель с помощью **Линейной Регрессии**:\n",
    "\n",
    "- Качество модели будем оценивать c помощью `кросс-валидации` и метрики `RMSE`. \n",
    "\n",
    "- На валидационной выборке с помощью предсказаний оценим `средний запас сырья`. \n",
    "\n",
    "===\n",
    "\n",
    "2.Подготовимся к **расчету прибыли** в регионах:\n",
    "\n",
    "\n",
    "- Сравним средний запас сырья в регионе с минимальным `объёмом для безубыточной разработки` новой скважины, и c результатами в п.1.\n",
    " \n",
    " \n",
    "- Напишем `функцию  расчета прибыли`, которая выбирает `200 лучших скважин` на основе предсказаний модели и считает прибыль \n",
    "\n",
    "===\n",
    "\n",
    "3.**Смоделируем** использование модели и оценим возможную **прибыль регионов** и **риски** (с помощью `Bootstrap`):\n",
    " \n",
    "- Отбираем `500 случайных точек` в каждом регионе (моделируем разведку) \n",
    " \n",
    " \n",
    "- Отбираем из них `200 лучших`, подсчитываем якобы полученную прибыль. Для этого используем подготовленную функцию, но прибыль считаем не по предсказанным объемам, а по реальным (валидационная выборка).\n",
    "\n",
    "\n",
    "- Делаем `1000 случайных выборок` с 2-мя пунктами выше и сохраняем полученное `распределение прибылей` из 1000 значений.\n",
    " \n",
    " \n",
    "- Найдем `среднюю прибыль`, `95%-й доверительный интервал` и `риск убытков`.\n",
    "\n",
    "===\n",
    "\n",
    "4.Предложим Заказчику **регион для разработки скважин**:\n",
    "\n",
    "- Оставим регионы, в которых вероятность `убытков меньше 2.5%`\n",
    "\n",
    "\n",
    "- Выберем регион с `наибольшей средней прибылью`"
   ]
  },
  {
   "cell_type": "markdown",
   "metadata": {},
   "source": [
    "## Подготовка данных для машинного обучения"
   ]
  },
  {
   "cell_type": "markdown",
   "metadata": {},
   "source": [
    "1. Каждый датасет мы разделим на обучающую и валидационную выборки в соотношении `75 x 25`.\n",
    "\n",
    "`Валидационную выборку` будем использовать **для оценки прибыли и рисков**, после обучения 3-х моделей.\n",
    "\n",
    "2. Полученные выборкиc сохраним в словарях, где `reg1`, `reg2` и `reg3` - ключи для соответствующих регионов."
   ]
  },
  {
   "cell_type": "code",
   "execution_count": 8,
   "metadata": {
    "scrolled": true
   },
   "outputs": [
    {
     "name": "stdout",
     "output_type": "stream",
     "text": [
      "Размер обучающей и тестовой выборки для каждого региона: 75000 25000\n"
     ]
    },
    {
     "data": {
      "text/html": [
       "<div>\n",
       "<style scoped>\n",
       "    .dataframe tbody tr th:only-of-type {\n",
       "        vertical-align: middle;\n",
       "    }\n",
       "\n",
       "    .dataframe tbody tr th {\n",
       "        vertical-align: top;\n",
       "    }\n",
       "\n",
       "    .dataframe thead th {\n",
       "        text-align: right;\n",
       "    }\n",
       "</style>\n",
       "<table border=\"1\" class=\"dataframe\">\n",
       "  <thead>\n",
       "    <tr style=\"text-align: right;\">\n",
       "      <th></th>\n",
       "      <th>f0</th>\n",
       "      <th>f1</th>\n",
       "      <th>f2</th>\n",
       "    </tr>\n",
       "  </thead>\n",
       "  <tbody>\n",
       "    <tr>\n",
       "      <th>70154</th>\n",
       "      <td>5.641445</td>\n",
       "      <td>-1.848575</td>\n",
       "      <td>2.998460</td>\n",
       "    </tr>\n",
       "    <tr>\n",
       "      <th>97712</th>\n",
       "      <td>-2.283211</td>\n",
       "      <td>-2.733342</td>\n",
       "      <td>0.012735</td>\n",
       "    </tr>\n",
       "    <tr>\n",
       "      <th>98</th>\n",
       "      <td>11.877073</td>\n",
       "      <td>4.792457</td>\n",
       "      <td>3.001572</td>\n",
       "    </tr>\n",
       "    <tr>\n",
       "      <th>23006</th>\n",
       "      <td>7.936629</td>\n",
       "      <td>-1.865652</td>\n",
       "      <td>0.992960</td>\n",
       "    </tr>\n",
       "    <tr>\n",
       "      <th>91981</th>\n",
       "      <td>2.888109</td>\n",
       "      <td>1.530264</td>\n",
       "      <td>1.998311</td>\n",
       "    </tr>\n",
       "  </tbody>\n",
       "</table>\n",
       "</div>"
      ],
      "text/plain": [
       "              f0        f1        f2\n",
       "70154   5.641445 -1.848575  2.998460\n",
       "97712  -2.283211 -2.733342  0.012735\n",
       "98     11.877073  4.792457  3.001572\n",
       "23006   7.936629 -1.865652  0.992960\n",
       "91981   2.888109  1.530264  1.998311"
      ]
     },
     "execution_count": 8,
     "metadata": {},
     "output_type": "execute_result"
    }
   ],
   "source": [
    "# Словари для хранения переменных для отдельных регионов\n",
    "X_train = {}\n",
    "y_train = {}\n",
    "\n",
    "X_test = {}\n",
    "y_test = {}\n",
    "\n",
    "models = {}\n",
    "predictions = {}\n",
    "\n",
    "# ключи  регионов для хранения выборок в словарях\n",
    "reg_keys = ['reg1', 'reg2', 'reg3']\n",
    "\n",
    "# сюда сохраним метрики наших моделей\n",
    "models_results = pd.DataFrame(index = ['RMSE_cv', 'RMSE_Test'])\n",
    "\n",
    "# Для каждого региона свой обучающий и валидационный датасет\n",
    "for name, data in zip(reg_keys, [data1, data2, data3]):\n",
    " \n",
    "    # Формируем две выборки в соотношении 75x25\n",
    "    X_train[name], X_test[name], y_train[name], y_test[name] = train_test_split (\n",
    "                                                                  # идентификаторы нам не понадобятся\n",
    "                                                                  data.drop(['id', 'product'], axis=1),\n",
    "\n",
    "                                                                  # целевой показатель - объем нефти\n",
    "                                                                  data['product'],    \n",
    "                                                                  test_size=0.25,  \n",
    "                                                                  random_state=777)\n",
    "  \n",
    "    \n",
    "print(\"Размер обучающей и тестовой выборки для каждого региона:\", X_train['reg1'].shape[0], X_test['reg1'].shape[0])\n",
    "X_train['reg2'].head(5)"
   ]
  },
  {
   "cell_type": "markdown",
   "metadata": {},
   "source": [
    "75 000 скважин в нашем распоряжении для кросс-валидации моделей:)"
   ]
  },
  {
   "cell_type": "markdown",
   "metadata": {},
   "source": [
    "## Построение моделей линейной регрессии"
   ]
  },
  {
   "cell_type": "markdown",
   "metadata": {},
   "source": [
    "Для каждого региона мы построим  и обучим модель с помощью **Линейной Регрессии**:\n",
    "\n",
    "- Качество модели будем оценивать c помощью **кросс-валидации** и метрики `RMSE`. \n",
    "\n",
    "\n",
    "- На валидационной выборке с помощью предсказаний оценим **средний запас сырья**\n",
    "\n",
    "Полученные модели сохраним в переменных `model_reg1`, `model_reg2`, `model_reg3`. Названия подходят для регионов и регрессии:)"
   ]
  },
  {
   "cell_type": "markdown",
   "metadata": {},
   "source": [
    "### Кросс-валидация и оценка RMSE"
   ]
  },
  {
   "cell_type": "code",
   "execution_count": 9,
   "metadata": {},
   "outputs": [
    {
     "data": {
      "text/html": [
       "<div>\n",
       "<style scoped>\n",
       "    .dataframe tbody tr th:only-of-type {\n",
       "        vertical-align: middle;\n",
       "    }\n",
       "\n",
       "    .dataframe tbody tr th {\n",
       "        vertical-align: top;\n",
       "    }\n",
       "\n",
       "    .dataframe thead th {\n",
       "        text-align: right;\n",
       "    }\n",
       "</style>\n",
       "<table border=\"1\" class=\"dataframe\">\n",
       "  <thead>\n",
       "    <tr style=\"text-align: right;\">\n",
       "      <th></th>\n",
       "      <th>reg1</th>\n",
       "      <th>reg2</th>\n",
       "      <th>reg3</th>\n",
       "    </tr>\n",
       "  </thead>\n",
       "  <tbody>\n",
       "    <tr>\n",
       "      <th>RMSE_cv</th>\n",
       "      <td>37.593417</td>\n",
       "      <td>0.890173</td>\n",
       "      <td>39.998921</td>\n",
       "    </tr>\n",
       "    <tr>\n",
       "      <th>RMSE_Test</th>\n",
       "      <td>NaN</td>\n",
       "      <td>NaN</td>\n",
       "      <td>NaN</td>\n",
       "    </tr>\n",
       "  </tbody>\n",
       "</table>\n",
       "</div>"
      ],
      "text/plain": [
       "                reg1      reg2       reg3\n",
       "RMSE_cv    37.593417  0.890173  39.998921\n",
       "RMSE_Test        NaN       NaN        NaN"
      ]
     },
     "execution_count": 9,
     "metadata": {},
     "output_type": "execute_result"
    }
   ],
   "source": [
    "for reg_key in  reg_keys:\n",
    "    models[reg_key] = LinearRegression()\n",
    "    \n",
    "    # получаем список ошибок для каждого сплита (всего 5)\n",
    "    error_list = cross_val_score(models[reg_key], X_train[reg_key], y_train[reg_key],\n",
    "                          scoring='neg_root_mean_squared_error', cv=5) \n",
    "    \n",
    "    # умножаем на (-1), т.к. у нас был neg_rmse и вычисляем среднее по сплитам\n",
    "    rmse_cv = (error_list * (-1)).mean()     \n",
    "    \n",
    "    # сохраняем результат в датафрейм\n",
    "    models_results[reg_key] = [rmse_cv, np.nan]\n",
    "\n",
    "# выведем результаты\n",
    "models_results"
   ]
  },
  {
   "cell_type": "markdown",
   "metadata": {},
   "source": [
    "**Вывод 1**\n",
    "\n",
    "- Интересно, особенности данных в разных регионах нашли свое отражение и в качестве моделей:)\n",
    "\n",
    "- **Регионы 1 и 3** имеют одинаковый высокий уровень ошибок, а **регион 2** - снова белая ворона, предсказания почти идеальны.\n",
    "\n",
    "- С учетом того, что в регионах **~одинаковый диапазон** целевого признака `target`, такая разница существенна.\n",
    "\n",
    "Посмотрим, как сходятся наши модели на графиках `learning_curve`"
   ]
  },
  {
   "cell_type": "code",
   "execution_count": 10,
   "metadata": {
    "scrolled": true
   },
   "outputs": [
    {
     "data": {
      "image/png": "[encoded data removed]",
      "text/plain": [
       "<Figure size 576x396 with 1 Axes>"
      ]
     },
     "metadata": {},
     "output_type": "display_data"
    },
    {
     "data": {
      "image/png": "[encoded data removed]",
      "text/plain": [
       "<Figure size 576x396 with 1 Axes>"
      ]
     },
     "metadata": {},
     "output_type": "display_data"
    },
    {
     "data": {
      "image/png": "[encoded data removed]",
      "text/plain": [
       "<Figure size 576x396 with 1 Axes>"
      ]
     },
     "metadata": {},
     "output_type": "display_data"
    }
   ],
   "source": [
    "train_sizes = range(100, 60000, 10000)\n",
    "\n",
    "for reg_key in  reg_keys:\n",
    "    plot_learning_curve (f\"Обучающие кривые для линейной регрессии в {reg_key}\",\n",
    "                         models[reg_key], X_train[reg_key], y_train[reg_key],\n",
    "                         'neg_root_mean_squared_error', train_sizes) \n"
   ]
  },
  {
   "cell_type": "markdown",
   "metadata": {},
   "source": [
    "**Вывод 2**\n",
    "\n",
    "Интересная картина, похоже нашим моделям достаточно `10000 данных`, а дальше они не обучаются. Возможно мы узнаем еще какие-то инсайты, чтобы объяснить такую закономерность.\n",
    "\n",
    "Следующим шагом мы, тем не менее, обучим модели на исходной обучающей выборке и **сохраним предсказания**"
   ]
  },
  {
   "cell_type": "markdown",
   "metadata": {},
   "source": [
    "### Оценка среднего запаса сырья (предсказания на тестовых данных)"
   ]
  },
  {
   "cell_type": "code",
   "execution_count": 11,
   "metadata": {},
   "outputs": [
    {
     "name": "stdout",
     "output_type": "stream",
     "text": [
      "Предсказания на тестовой выборке:\n",
      "[ 73.60222324  79.13151182 122.03324606 ...  84.88963706  86.08721232\n",
      " 114.39343483]\n",
      "[  2.59952411  56.04040891 109.73636543 ...  27.03308863 136.89581197\n",
      " 111.39344413]\n",
      "[119.37529972  97.67154029  70.91441908 ... 121.53453428  81.12434294\n",
      "  96.15755006]\n"
     ]
    }
   ],
   "source": [
    "print(\"Предсказания на тестовой выборке:\")\n",
    "for reg_key in  reg_keys:\n",
    "    \n",
    "    # Обучаем все модели на полной обучающей выборке\n",
    "    models[reg_key].fit(X_train[reg_key], y_train[reg_key])\n",
    "    \n",
    "    # Сохраняем предсказания\n",
    "    predictions[reg_key] =  models[reg_key].predict(X_test[reg_key])\n",
    "    print(predictions[reg_key])\n",
    "    \n",
    "    # Переводим в Series, сохраняя ИНДЕКСЫ как в массиве y_test с реальными данными\n",
    "    predictions[reg_key] = pd.Series(predictions[reg_key], index=y_test[reg_key].index)"
   ]
  },
  {
   "cell_type": "markdown",
   "metadata": {},
   "source": [
    "Теперь мы можем оценить **средний запас сырья**, который модель предсказывает в каждом регионе. "
   ]
  },
  {
   "cell_type": "code",
   "execution_count": 12,
   "metadata": {
    "scrolled": true
   },
   "outputs": [
    {
     "name": "stdout",
     "output_type": "stream",
     "text": [
      "Cредний запас предсказанного сырья в регионах (тестовая выборка):\n",
      "\n",
      "reg1|  92.717 тысяч баррелей\n",
      "reg2|  69.750 тысяч баррелей\n",
      "reg3|  94.978 тысяч баррелей\n",
      "\n",
      "Реальные запасы сырья в регионах (тестовая выборка):\n",
      "\n",
      "reg1|  92.902 тысяч баррелей\n",
      "reg2|  69.751 тысяч баррелей\n",
      "reg3|  94.861 тысяч баррелей\n"
     ]
    }
   ],
   "source": [
    "print(\"Cредний запас предсказанного сырья в регионах (тестовая выборка):\\n\")\n",
    "for reg_key in  reg_keys:\n",
    "    print(f\"{reg_key}| {predictions[reg_key].mean(): .3f} тысяч баррелей\")\n",
    "    \n",
    "print()\n",
    "\n",
    "print(\"Реальные запасы сырья в регионах (тестовая выборка):\\n\")\n",
    "for reg_key in  reg_keys:\n",
    "    print(f\"{reg_key}| {y_test[reg_key].mean(): .3f} тысяч баррелей\")"
   ]
  },
  {
   "cell_type": "markdown",
   "metadata": {},
   "source": [
    "**Вывод**\n",
    "\n",
    "- С учетом одинакового количества скважин и схожего распределения объемов нефти в скважинах, мы получили `почти равные` средние запасы нефти в **регионах 1 и 3**.\n",
    "\n",
    "\n",
    "- В регионе 2 запасов меньше, зато предсказываем мы их в разрезе скважин лучше:)\n",
    "\n",
    "\n",
    "- Интересная закономерность. `RMSE` предсказаний для конкретной скважины  хуже в регионах 1 и 3 почти **в 40 раз** (чем в регионе 2). А показатели **средних запасов в целом по региону** почти `с нулевой ошибкой` во всех регионах!\n"
   ]
  },
  {
   "cell_type": "markdown",
   "metadata": {},
   "source": [
    "### RMSE на тестовой выборке"
   ]
  },
  {
   "cell_type": "markdown",
   "metadata": {},
   "source": [
    "- Прежде чем делать оценку ошибок, попробуем нарисовать **графики предсказаний и реальные данные** о запасах нефти для  тестовой выборки скважин.\n",
    "\n",
    "\n",
    "- Для визуализации возьмем только `10 000 скважин`. \n",
    "\n",
    "Интересно, как общая картина ошибок в конечном итоге отразится `на показателе RMSE`и увидим ли отличия `между регионами`"
   ]
  },
  {
   "cell_type": "code",
   "execution_count": 13,
   "metadata": {},
   "outputs": [
    {
     "data": {
      "image/png": "[encoded data removed]",
      "text/plain": [
       "<Figure size 1080x360 with 2 Axes>"
      ]
     },
     "metadata": {},
     "output_type": "display_data"
    },
    {
     "data": {
      "image/png": "[encoded data removed]",
      "text/plain": [
       "<Figure size 1080x360 with 2 Axes>"
      ]
     },
     "metadata": {},
     "output_type": "display_data"
    },
    {
     "data": {
      "image/png": "[encoded data removed]",
      "text/plain": [
       "<Figure size 1080x360 with 2 Axes>"
      ]
     },
     "metadata": {},
     "output_type": "display_data"
    }
   ],
   "source": [
    "for reg_key in  reg_keys:\n",
    "    \n",
    "    # Делаем два графика\n",
    "    # Слева - реальные данные, Справа - предсказания запасов нефти\n",
    "    fig, axes = plt.subplots(1, 2, figsize=(15,5))\n",
    "    \n",
    "    #Общее название - регион скважин\n",
    "    fig.suptitle(f\"Объемы запасов нефти в скважинах региона {reg_key} (тысяч баррелей)\", size=16)\n",
    "    \n",
    "    for i, data, data_name, in zip ([0,1], \n",
    "                                     [y_test, predictions], \n",
    "                                     [\"Реальные данные\", \"Предсказания (тестовая выборка)\"]):\n",
    "        ax = (data[reg_key]\n",
    "                 # переводим в датафрейм для scatter\n",
    "                 .rename('product').reset_index()\n",
    "\n",
    "                  #берем только 10 000 скважин\n",
    "                 .query(\"index < 10000\")\n",
    "                 .plot(ax=axes[i], x=\"index\", y=\"product\", kind=\"scatter\", alpha=0.5)\n",
    "             )         \n",
    "          \n",
    "        ax.set_title(data_name, loc='left', fontsize = 14) \n",
    "        ax.set_xlabel(f\"Индекс скважины\", fontsize = 12)\n",
    "        ax.set_ylabel(\"Тысяч баррелей\", fontsize = 12)   \n",
    "#         plt.show()\n",
    " \n",
    "    plt.show() \n",
    " "
   ]
  },
  {
   "cell_type": "markdown",
   "metadata": {},
   "source": [
    "**Вывод 1**\n",
    "\n",
    "- На графиках можно увидеть, что в **регионе №1** более четкие \"тренды\" объемов нефти в скважинах. Это подтверждает `равномерное распределение`, которое мы видели в начале проекта.\n",
    "\n",
    "\n",
    "- Видимо поэтому здесь **линейная регрессия** оказалась вовремя и по делу, показав высокие результаты:)\n",
    "\n",
    "Похоже, на тестовой выборке результаты RMSE должны быть близки к кросс-валидации. Проверим!"
   ]
  },
  {
   "cell_type": "code",
   "execution_count": 14,
   "metadata": {},
   "outputs": [
    {
     "data": {
      "text/html": [
       "<div>\n",
       "<style scoped>\n",
       "    .dataframe tbody tr th:only-of-type {\n",
       "        vertical-align: middle;\n",
       "    }\n",
       "\n",
       "    .dataframe tbody tr th {\n",
       "        vertical-align: top;\n",
       "    }\n",
       "\n",
       "    .dataframe thead th {\n",
       "        text-align: right;\n",
       "    }\n",
       "</style>\n",
       "<table border=\"1\" class=\"dataframe\">\n",
       "  <thead>\n",
       "    <tr style=\"text-align: right;\">\n",
       "      <th></th>\n",
       "      <th>reg1</th>\n",
       "      <th>reg2</th>\n",
       "      <th>reg3</th>\n",
       "    </tr>\n",
       "  </thead>\n",
       "  <tbody>\n",
       "    <tr>\n",
       "      <th>RMSE_cv</th>\n",
       "      <td>37.593417</td>\n",
       "      <td>0.890173</td>\n",
       "      <td>39.998921</td>\n",
       "    </tr>\n",
       "    <tr>\n",
       "      <th>RMSE_Test</th>\n",
       "      <td>37.992193</td>\n",
       "      <td>0.891151</td>\n",
       "      <td>40.230187</td>\n",
       "    </tr>\n",
       "  </tbody>\n",
       "</table>\n",
       "</div>"
      ],
      "text/plain": [
       "                reg1      reg2       reg3\n",
       "RMSE_cv    37.593417  0.890173  39.998921\n",
       "RMSE_Test  37.992193  0.891151  40.230187"
      ]
     },
     "execution_count": 14,
     "metadata": {},
     "output_type": "execute_result"
    }
   ],
   "source": [
    "for reg_key in  reg_keys:  \n",
    "    mse = mean_squared_error(predictions[reg_key], y_test[reg_key])\n",
    "    rmse = mse ** 0.5 # вычисляем корень из MSE = RMSE\n",
    "  \n",
    "    # сохраняем rmse на тестовой выборке в датафрейм\n",
    "    models_results[reg_key].iloc[1] = rmse\n",
    "#     df['col'].iloc[0]\n",
    "\n",
    "# сравним rmse на кросс-валидации и тестовой выборке\n",
    "models_results"
   ]
  },
  {
   "cell_type": "markdown",
   "metadata": {},
   "source": [
    "**Вывод 2**\n",
    "\n",
    "1. `RMSE` на тестовой выборке почти **не отличается** от результатов на кросс-валидации. Такой тренд мы уже отметили на обучающих кривых. \n",
    "\n",
    "\n",
    "2. `Логическая регрессия` - линейная модель, и видимо ее **качество** на имеющихся данных почти **не меняется** (в зависимости от объема  и набора обучающих данных). Возможно результат также связан с тем, что данные - синтетические.\n",
    "\n",
    "\n",
    "3. Визуализация `scatter` позволяет хорошо увидеть, откуда растут ноги `RMSE`. В регионах 1 и 3 - `ошибка ~ 40 тысяч баррелей`. Если посмотреть на график, то **полоса предсказаний** сузилась чем реальные данные на столько же позиций:\n",
    "    - (50, 150) в регионе 1\n",
    "    - (60, 140) в регионе 3"
   ]
  },
  {
   "cell_type": "markdown",
   "metadata": {},
   "source": [
    "## Подготовка к расчету прибыли в регионах"
   ]
  },
  {
   "cell_type": "markdown",
   "metadata": {},
   "source": [
    "Подготовимся к **расчету прибыли** в регионах:\n",
    "\n",
    "\n",
    "- Сравним средний запас сырья в регионе  с минимальным `объёмом для безубыточной разработки` новой скважины\n",
    " \n",
    " \n",
    "- Напишем `функцию  расчета прибыли`, которая выбирает `200 лучших скважин` на основе предсказаний модели и считает прибыль \n"
   ]
  },
  {
   "cell_type": "markdown",
   "metadata": {},
   "source": [
    "###  Возможности  для безубыточной разработки"
   ]
  },
  {
   "cell_type": "markdown",
   "metadata": {},
   "source": [
    "В п.4.2 мы уже получили средние показатели запасов на тестовой выборке:\n",
    "\n",
    "- reg1|  92.902 тысяч баррелей\n",
    "- reg2|  69.751 тысяч баррелей\n",
    "- reg3|  94.861 тысяч баррелей\n",
    "\n",
    "Какой минимальный объем нефти должен оказаться в скважине, чтобы добиться **убытка = 0**?\n",
    "\n",
    "- Средний бюджет на 1 скважину = Бюджет / Количество точек  \n",
    "- Прибыль от разработки скважины = Объем запасов в скважине (`Product`) * Прибыль с единицы продукта\n",
    "\n",
    "`Убыток = Средний бюджет - Прибыль на разработку`\n",
    "\n",
    "Вспомним условия, которые мы сформировали в п.2: \n",
    "- Общий бюджет на разработку в регионе - `10 млрд рублей`\n",
    "- Максимальное количество скважин для исследования - `200 лучших точек`. Их отбирает наша модель.\n",
    "- Доход с каждой единицы продукта -  `450 тыс. рублей`"
   ]
  },
  {
   "cell_type": "code",
   "execution_count": 15,
   "metadata": {},
   "outputs": [
    {
     "name": "stdout",
     "output_type": "stream",
     "text": [
      "Средний бюджет на разработку одной скважины (тыс.руб): 50000.0\n",
      "Прибыль с единицы нефтяного продукта (тыс. руб): 450\n",
      "Необходимый запас нефти в скважине для безубыточной разработки (тыс.баррелей): 111\n",
      "\n",
      "Реальные запасы сырья в регионах (тестовая выборка):\n",
      "\n",
      "reg1| средний запас:  92.902 тыс. баррелей | средняя прибыль: -8193.982580863056\n",
      "reg2| средний запас:  69.751 тыс. баррелей | средняя прибыль: -18611.85935030407\n",
      "reg3| средний запас:  94.861 тыс. баррелей | средняя прибыль: -7312.405774590559\n"
     ]
    }
   ],
   "source": [
    "REGION_BUDGET = 10000000000 / 1000\n",
    "WELLS_MAX_NUMBER = 200\n",
    "ONE_PRODUCT_REVENUE = 450\n",
    "\n",
    "WELL_BUDGET = REGION_BUDGET / WELLS_MAX_NUMBER\n",
    "\n",
    "print(\"Средний бюджет на разработку одной скважины (тыс.руб):\", WELL_BUDGET)\n",
    "print(\"Прибыль с единицы нефтяного продукта (тыс. руб):\", ONE_PRODUCT_REVENUE)\n",
    "print(f\"Необходимый запас нефти в скважине для безубыточной разработки (тыс.баррелей):{(WELL_BUDGET / ONE_PRODUCT_REVENUE): .0f}\")\n",
    "print()\n",
    "\n",
    "print(\"Реальные запасы сырья в регионах (тестовая выборка):\\n\")\n",
    "for reg_key in  reg_keys:\n",
    "    product_mean = y_test[reg_key].mean()\n",
    "    revenue_mean =  product_mean * ONE_PRODUCT_REVENUE - WELL_BUDGET\n",
    "    print(f\"{reg_key}| средний запас: {product_mean: .3f} тыс. баррелей | средняя прибыль: {revenue_mean}\")\n",
    "    \n"
   ]
  },
  {
   "cell_type": "markdown",
   "metadata": {},
   "source": [
    "**Вывод**\n",
    "\n",
    "1. Если смотреть на средние запасы нефти в скважинах, то в любом из 3-х регионов у нас есть **большой риск получить убытки** от разработки.\n",
    "\n",
    "\n",
    "2. Делаем, вывод, что нам важно не только **выбрать** сам регион, но и **сами скважины**). `В регионе 1`:\n",
    "    - Есть пики с самыми **\"продуктивными скважинами\"**\n",
    "    - Риски потерь в случае неудачи здесь тоже выше. Большие ставки, хоть и на синтетических данных)\n",
    "\n",
    "То, насколько хорошо наша модель сможет отбирать перспективные скважины, мы попробуем оценить в п.6. с помощью техники `bootstrap`."
   ]
  },
  {
   "cell_type": "markdown",
   "metadata": {},
   "source": [
    "### Расчет прибыли с использованием модели"
   ]
  },
  {
   "cell_type": "markdown",
   "metadata": {},
   "source": [
    "Все, что формализовали в п.2. и п.5.1. нужно теперь обернуть в хорошую функцию! \n",
    "\n",
    "1. Выбераем скважины в регионе с **максимальными значениями** предсказаний.\n",
    "\n",
    "\n",
    "2. **Суммируем** целевое значение **объёма сырья**, соответствующее этим предсказаниям.\n",
    "\n",
    "\n",
    "3. Рассчитываем **прибыль** для полученного объёма сырья.\n",
    "\n",
    "\n",
    "- Для подсчета прибыли на входе `product_predictions` и `product_real_data` будет одинаковый массив предсказаний.\n",
    "\n",
    "- Для оценки вероятности прибыли (bootstrap) в `product_real_data` - реальные данные целевого признака."
   ]
  },
  {
   "cell_type": "code",
   "execution_count": 16,
   "metadata": {},
   "outputs": [
    {
     "name": "stdout",
     "output_type": "stream",
     "text": [
      "5 Скважин с лучшими показателями предсказанного запаса сырья (1й регион):\n"
     ]
    },
    {
     "data": {
      "text/html": [
       "<div>\n",
       "<style scoped>\n",
       "    .dataframe tbody tr th:only-of-type {\n",
       "        vertical-align: middle;\n",
       "    }\n",
       "\n",
       "    .dataframe tbody tr th {\n",
       "        vertical-align: top;\n",
       "    }\n",
       "\n",
       "    .dataframe thead th {\n",
       "        text-align: right;\n",
       "    }\n",
       "</style>\n",
       "<table border=\"1\" class=\"dataframe\">\n",
       "  <thead>\n",
       "    <tr style=\"text-align: right;\">\n",
       "      <th></th>\n",
       "      <th>real_product</th>\n",
       "      <th>product_predictions</th>\n",
       "    </tr>\n",
       "  </thead>\n",
       "  <tbody>\n",
       "    <tr>\n",
       "      <th>83095</th>\n",
       "      <td>144.009283</td>\n",
       "      <td>185.608971</td>\n",
       "    </tr>\n",
       "    <tr>\n",
       "      <th>52356</th>\n",
       "      <td>123.920559</td>\n",
       "      <td>177.596629</td>\n",
       "    </tr>\n",
       "    <tr>\n",
       "      <th>46784</th>\n",
       "      <td>153.639837</td>\n",
       "      <td>176.415406</td>\n",
       "    </tr>\n",
       "    <tr>\n",
       "      <th>27658</th>\n",
       "      <td>140.631646</td>\n",
       "      <td>176.103738</td>\n",
       "    </tr>\n",
       "    <tr>\n",
       "      <th>78948</th>\n",
       "      <td>162.153488</td>\n",
       "      <td>175.884097</td>\n",
       "    </tr>\n",
       "  </tbody>\n",
       "</table>\n",
       "</div>"
      ],
      "text/plain": [
       "       real_product  product_predictions\n",
       "83095    144.009283           185.608971\n",
       "52356    123.920559           177.596629\n",
       "46784    153.639837           176.415406\n",
       "27658    140.631646           176.103738\n",
       "78948    162.153488           175.884097"
      ]
     },
     "metadata": {},
     "output_type": "display_data"
    },
    {
     "name": "stdout",
     "output_type": "stream",
     "text": [
      "Общий объем запасов в выбранных скважинах:  724.35 тысяч баррелей\n"
     ]
    }
   ],
   "source": [
    "# Сделаем небольшую симуляцию отобора лучших скважин\n",
    "# Возьмем первый регион\n",
    "\n",
    "print(\"5 Скважин с лучшими показателями предсказанного запаса сырья (1й регион):\")\n",
    "best = predictions['reg1'].sort_values(ascending=False)[:5]\n",
    "\n",
    "display(y_test['reg1'][best.index]\n",
    "     .rename('real_product')\n",
    "     .to_frame()\n",
    "     .join(predictions['reg1'][best.index].rename('product_predictions'))\n",
    ")\n",
    "\n",
    "print(f\"Общий объем запасов в выбранных скважинах: {y_test['reg1'][best.index].sum(): .2f} тысяч баррелей\")"
   ]
  },
  {
   "cell_type": "markdown",
   "metadata": {},
   "source": [
    "**Вывод 1**\n",
    "\n",
    "- Отлично, все работает. Для скважины с 144 тысячами баррелей модель предсказала 185. +- 40, RMSE предупреждал.\n",
    "\n",
    "\n",
    "- Для `bootstrap` именно по такому принципу функция будет отбирать скважины на предсказаниях, а потом подсчитывать прибыль уже на реальных данных о запасах в  выбранных скважинах.\n",
    "\n",
    "\n",
    "- Заметим, что **средний запас нефти** в одной скважине при таком раскладе намного выше, чем если брать весь регион целиком:) Понятно, что мы взяли 5 самых сливок. Но именно так сработает и отбор 200 лучших скважин\n",
    "\n",
    "Таким образом, **риски** в п.5.1. действительно могут быть **скомпенсированы выбором скважин** с самыми большими запасами."
   ]
  },
  {
   "cell_type": "code",
   "execution_count": 17,
   "metadata": {},
   "outputs": [],
   "source": [
    "def region_revenue(product_real_data, product_predictions, max_wells_number, one_product_revenue, region_budget):\n",
    "    '''\n",
    "    region_budget - бюджет для разработки в регионе\n",
    "    one_product_revenue - ревенью с единицы продукта\n",
    "    product_predictions - предсказания (по ним будут ранжироваться скважины)\n",
    "    product_real_data - запас нефти в скважинах (индексация должна совпадать с product_predictions)\n",
    "    max_wells_number - максимальное количество скважин, которое можем отобрать для исследования < len(product_predictions)\n",
    "    '''\n",
    "    sum_product = 0\n",
    "    revenue = 0\n",
    "        \n",
    "    # Оставляем только лучшие скважины (с наибольшими запасами)\n",
    "    # Сортируем по убыванию  \n",
    "    best_predictions = product_predictions.sort_values(ascending=False)\n",
    "    best_real_data = product_real_data[best_predictions.index][:max_wells_number]\n",
    "    \n",
    "   \n",
    "    # Вычисляем суммарный объем запасов\n",
    "    # На выбранных скважинах\n",
    "    sum_product =  best_real_data.sum()  \n",
    "  \n",
    "    # Подсчитываем прогнозируемую прибыль\n",
    "    revenue =  sum_product * one_product_revenue - region_budget\n",
    "    \n",
    "    return revenue, sum_product"
   ]
  },
  {
   "cell_type": "markdown",
   "metadata": {},
   "source": [
    "Проверить работу функции мы можем **на тестовой выборке**. Все входные параметры зафиксированы в п.5.1"
   ]
  },
  {
   "cell_type": "code",
   "execution_count": 18,
   "metadata": {},
   "outputs": [
    {
     "name": "stdout",
     "output_type": "stream",
     "text": [
      "==> Прибыль по 200 лучшим скважинам в регионе. Тестовая выборка <==\n",
      "\n",
      "Выбор скважин - на предсказаниях, оценка прибыли и запасов - на реальных данных:\n",
      "\n",
      "reg1 | прибыль:  3428943.54 тыс. рублей | сумма запасов:  29842.10\n",
      "reg2 | прибыль:  2415086.70 тыс. рублей | сумма запасов:  27589.08\n",
      "reg3 | прибыль:  2272190.44 тыс. рублей | сумма запасов:  27271.53\n",
      "\n",
      "Выбор скважин - на предсказаниях, оценка прибыли и запасов - на предсказаниях:\n",
      "\n",
      "reg1 | прибыль:  4054268.03 тыс. рублей | сумма запасов:  31231.71\n",
      "reg2 | прибыль:  2486946.45 тыс. рублей | сумма запасов:  27748.77\n",
      "reg3 | прибыль:  3345932.47 тыс. рублей | сумма запасов:  29657.63\n"
     ]
    }
   ],
   "source": [
    "print(\"==> Прибыль по 200 лучшим скважинам в регионе. Тестовая выборка <==\\n\")\n",
    "print(\"Выбор скважин - на предсказаниях, оценка прибыли и запасов - на реальных данных:\\n\")\n",
    "for reg_key in  reg_keys:    \n",
    "    \n",
    "    revenue, sum_product = region_revenue(product_real_data = y_test[reg_key], # реальные данные по запасам\n",
    "                            product_predictions= predictions[reg_key], \n",
    "                            max_wells_number = WELLS_MAX_NUMBER, \n",
    "                            one_product_revenue = ONE_PRODUCT_REVENUE, \n",
    "                            region_budget = REGION_BUDGET)\n",
    "    \n",
    "    print(f\"{reg_key} | прибыль: {revenue: .2f} тыс. рублей | сумма запасов: {sum_product: .2f}\") \n",
    "\n",
    "print()\n",
    "    \n",
    "print(\"Выбор скважин - на предсказаниях, оценка прибыли и запасов - на предсказаниях:\\n\")\n",
    "for reg_key in  reg_keys:    \n",
    "    \n",
    "    revenue, sum_product = region_revenue(product_real_data = predictions[reg_key], # предсказания запасов\n",
    "                            product_predictions= predictions[reg_key], \n",
    "                            max_wells_number = WELLS_MAX_NUMBER, \n",
    "                            one_product_revenue = ONE_PRODUCT_REVENUE, \n",
    "                            region_budget = REGION_BUDGET)\n",
    "    \n",
    "    \n",
    "    print(f\"{reg_key} | прибыль: {revenue: .2f} тыс. рублей | сумма запасов: {sum_product: .2f}\") "
   ]
  },
  {
   "cell_type": "markdown",
   "metadata": {},
   "source": [
    "**Вывод 2**\n",
    "\n",
    "1. Наша модель сильно приукрасила итоговую прибыль только в регионах 1 и 3. Такую погрешность предсказывал RMSE.\n",
    "\n",
    "\n",
    "2. Выбрав 200 лучших скважин из 25000 скважин в тестовой выборке мы компенсировали риски, связанные с **убыточностью большинства скважин**.\n",
    "\n",
    "\n",
    "3. Можно заметить, что **в регионе 2** общая прибыль обогнала регион 3. Хотя средние показатели в п.5.1 давали нам совершенно другую картину. \n",
    "\n",
    "\n",
    "4. Сумма запасов 27589  тыс. баррелей значает, что мы отобрали в регионе 2 `200 скважин` со средним запасом сырья в **137 тыс.баррелей**. Этот показатель **выше, чем в среднем по всему региону**. В целом данные о прибыли выглядят корректными.\n",
    "\n",
    "Переходим к самому важному этапу оценки рисков и выбору лучшего региона."
   ]
  },
  {
   "cell_type": "markdown",
   "metadata": {},
   "source": [
    "## Оценка вероятности прибыли и рисков  (bootstrap) в регионах"
   ]
  },
  {
   "cell_type": "markdown",
   "metadata": {},
   "source": [
    "**Смоделируем** использование модели и оценим возможную **прибыль регионов** и **риски** (с помощью `Bootstrap`):\n",
    " \n",
    "- Отбираем `500 случайных точек` в каждом регионе (моделируем разведку) \n",
    " \n",
    " \n",
    "- Отбираем из них `200 лучших`, подсчитываем якобы полученную прибыль. Для этого используем подготовленную функцию, но прибыль считаем не по предсказанным объемам, а по реальным (валидационная выборка).\n",
    "\n",
    "\n",
    "- Делаем `1000 случайных выборок` с 2-мя пунктами выше и сохраняем полученное `распределение прибылей` из 1000 значений.\n",
    " \n",
    " \n",
    "- Найдем `среднюю прибыль`, `95%-й доверительный интервал` и `риск убытков`."
   ]
  },
  {
   "cell_type": "code",
   "execution_count": 19,
   "metadata": {},
   "outputs": [],
   "source": [
    "def bootstrap_region(predict_data, real_data, subsample_size, bootstrap_size):\n",
    "    '''\n",
    "    Генерирует распределение значений прибыли техникой bootstrap \n",
    "    отбирает случайным образом скважины для разработки (количество = subsample_size)\n",
    "    \n",
    "    1. отбор лучших скважин - на предсказаниях  predict_data (количество = WELLS_MAX_NUMBER < subsample_size)\n",
    "    2. оценка прибыли и запасов - на реальных данных real_data\n",
    "    \n",
    "    повторяет процедуру заданное количество раз - bootstrap_size\n",
    "    \n",
    "    возвращает распределение прибыли (Series, размер = bootstrap_size)\n",
    "    '''\n",
    "    state = np.random.RandomState(12345) # чтобы набор скважин для разведки был каждый раз разный\n",
    "    revenue_values = []\n",
    "          \n",
    "    for i in range(bootstrap_size):\n",
    "        \n",
    "        # моделируем выбор скважин для разведки (количество = subsample_size)\n",
    "        # индекс после sample сохраняется прежним (т.к. ignore_index по умолчанию)\n",
    "        predict_subsample = predict_data.sample(n=subsample_size, replace=True, random_state=state)      \n",
    "        real_subsample = real_data[predict_subsample.index]   \n",
    "       \n",
    "        # вычисляем  общую потенциальную прибыль \n",
    "        # на лучших скважинах, отобранных моделью (количество = WELLS_MAX_NUMBER)\n",
    "        revenue, sum_product = region_revenue(\n",
    "                                product_real_data =  real_subsample, # реальные данные\n",
    "                                product_predictions = predict_subsample, # предсказания запасов\n",
    "                                max_wells_number = WELLS_MAX_NUMBER, \n",
    "                                one_product_revenue = ONE_PRODUCT_REVENUE, \n",
    "                                region_budget =  REGION_BUDGET)\n",
    "       \n",
    "        revenue_values.append(revenue)\n",
    "    \n",
    "    # Распределение прибыли (количество значений =  bootstrap_size)\n",
    "    revenue_values = pd.Series(revenue_values) \n",
    "    \n",
    "    return revenue_values\n",
    "\n",
    "# Запускаем процедуру bootstrap  для каждого региона\n",
    "# Cохраняем полученные распределения\n",
    "regions_bootstrap_revenue = {}\n",
    "for reg_key in  reg_keys:     \n",
    "     \n",
    "    # Из общего датасета случайным образом отбираем 500 скважин \n",
    "    # Повторяем процедуру bootstrap 1000 раз\n",
    "    revenue_values = bootstrap_region(predictions[reg_key], y_test[reg_key], 500, 1000)        \n",
    "    regions_bootstrap_revenue[reg_key] = revenue_values"
   ]
  },
  {
   "cell_type": "code",
   "execution_count": 22,
   "metadata": {},
   "outputs": [
    {
     "name": "stdout",
     "output_type": "stream",
     "text": [
      "===> Оценка ДОВЕРИТЕЛЬНОГО ИНТЕРВАЛА и РИСКОВ для ПРИБЫЛИ в регионах <===\n",
      "\n",
      "=Регион reg1=\n",
      "Средняя выручка:489853 тыс.руб. | 95-й дов.интервал: (-51506,1046143) | Риск убытков: 3.70%\n",
      "\n",
      "=Регион reg2=\n",
      "Средняя выручка:580255 тыс.руб. | 95-й дов.интервал: (189417,980093) | Риск убытков: 0.20%\n",
      "\n",
      "=Регион reg3=\n",
      "Средняя выручка:393944 тыс.руб. | 95-й дов.интервал: (-136530,958346) | Риск убытков: 8.00%\n",
      "\n"
     ]
    }
   ],
   "source": [
    "print(f\"===> Оценка ДОВЕРИТЕЛЬНОГО ИНТЕРВАЛА и РИСКОВ для ПРИБЫЛИ в регионах <===\\n\")\n",
    "for reg_key in  reg_keys:  \n",
    "    \n",
    "    print(f\"=Регион {reg_key}=\")   \n",
    "       \n",
    "    # 95-й доверительный интервал. 0.025 с одной стороны, и с другой \n",
    "    # Вероятность прибыли < lower_risk = 2.5%\n",
    "    lower_risk =  regions_bootstrap_revenue[reg_key].quantile(0.025)  \n",
    "    upper = regions_bootstrap_revenue[reg_key].quantile(0.975) \n",
    "    \n",
    "    # вероятность убытков\n",
    "    # доля случаев с отрицательной прибылью\n",
    "    risk = (regions_bootstrap_revenue[reg_key] < 0).mean()\n",
    "    \n",
    "    print(f\"Средняя выручка:{ regions_bootstrap_revenue[reg_key].mean():.0f} тыс.руб.\",\n",
    "          f\"| 95-й дов.интервал: ({lower_risk:.0f},{upper:.0f}) |\",\n",
    "          f\"Риск убытков: {risk:.2%}\")\n",
    "    print()"
   ]
  },
  {
   "cell_type": "markdown",
   "metadata": {},
   "source": [
    "## Общий вывод"
   ]
  },
  {
   "cell_type": "markdown",
   "metadata": {},
   "source": [
    "Предложим Заказчику **регион для разработки скважин**:\n",
    "\n",
    "   - Оставим регионы, в которых вероятность `убытков меньше 2.5%`\n",
    "   - Выберем регион с `наибольшей средней прибылью`\n",
    "\n",
    "1. 1-му условию не удовлетворяют  **регион №3** и **регион №1**, здесь доля случаев с отрицательной прибылью `3.7% и 8%`. соответственно.\n",
    "\n",
    " - Полученный 95% доверительный интервал также сразу позволяет ответить на вопрос, в каком регионе отрицательные значения будут с вероятностью меньше 2.5%. \n",
    "\n",
    " - Т.к. **нижняя граница**  интервала  **отрицательна** в регионах 1 и 3, значит, мы уже имеем 2.5%  случаев < 0.\n",
    " \n",
    "\n",
    "2. Наибольшая средняя прибыль в **регионе №2**. В целом наша гипотеза с выбором фаворита подтвердилась) \n",
    "\n",
    "\n",
    "3. Приятный бонус, в выбранном регионе наша модель предсказывает запасы сырья в скважинах с достаточно низким уровнем ошибок `RMSE = 0.89`\n",
    "\n",
    "Бизнес-цель на синтетических данных достигнута)"
   ]
  }
 ],
 "metadata": {
  "ExecuteTimeLog": [
   {
    "duration": 74,
    "start_time": "2022-03-29T07:06:42.382Z"
   },
   {
    "duration": 2485,
    "start_time": "2022-03-29T07:06:54.182Z"
   },
   {
    "duration": 426,
    "start_time": "2022-03-29T07:06:56.669Z"
   },
   {
    "duration": 432,
    "start_time": "2022-03-29T07:07:01.339Z"
   },
   {
    "duration": 1854,
    "start_time": "2022-03-29T07:07:12.435Z"
   },
   {
    "duration": 415,
    "start_time": "2022-03-29T07:07:14.292Z"
   },
   {
    "duration": 414,
    "start_time": "2022-03-29T07:07:16.696Z"
   },
   {
    "duration": 436,
    "start_time": "2022-03-29T07:07:58.418Z"
   },
   {
    "duration": 6,
    "start_time": "2022-03-29T07:16:22.835Z"
   },
   {
    "duration": 4,
    "start_time": "2022-03-29T07:30:05.745Z"
   },
   {
    "duration": 159,
    "start_time": "2022-03-29T07:30:14.256Z"
   },
   {
    "duration": 37,
    "start_time": "2022-03-29T07:30:20.335Z"
   },
   {
    "duration": 27,
    "start_time": "2022-03-29T07:31:17.788Z"
   },
   {
    "duration": 27,
    "start_time": "2022-03-29T07:31:31.252Z"
   },
   {
    "duration": 27,
    "start_time": "2022-03-29T07:31:35.878Z"
   },
   {
    "duration": 149,
    "start_time": "2022-03-29T07:31:46.485Z"
   },
   {
    "duration": 150,
    "start_time": "2022-03-29T07:32:02.503Z"
   },
   {
    "duration": 50,
    "start_time": "2022-03-29T07:33:16.109Z"
   },
   {
    "duration": 27,
    "start_time": "2022-03-29T07:33:37.473Z"
   },
   {
    "duration": 27,
    "start_time": "2022-03-29T07:33:54.452Z"
   },
   {
    "duration": 28,
    "start_time": "2022-03-29T07:34:13.364Z"
   },
   {
    "duration": 107,
    "start_time": "2022-03-29T07:34:37.615Z"
   },
   {
    "duration": 49,
    "start_time": "2022-03-29T08:18:38.039Z"
   },
   {
    "duration": 1588,
    "start_time": "2022-03-29T08:18:49.207Z"
   },
   {
    "duration": 367,
    "start_time": "2022-03-29T08:18:50.797Z"
   },
   {
    "duration": 92,
    "start_time": "2022-03-29T08:18:51.166Z"
   },
   {
    "duration": 794,
    "start_time": "2022-03-29T08:18:56.995Z"
   },
   {
    "duration": 901,
    "start_time": "2022-03-29T08:19:27.537Z"
   },
   {
    "duration": 774,
    "start_time": "2022-03-29T08:19:52.494Z"
   },
   {
    "duration": 876,
    "start_time": "2022-03-29T08:19:56.268Z"
   },
   {
    "duration": 769,
    "start_time": "2022-03-29T08:20:02.344Z"
   },
   {
    "duration": 772,
    "start_time": "2022-03-29T08:20:37.806Z"
   },
   {
    "duration": 883,
    "start_time": "2022-03-29T08:20:43.559Z"
   },
   {
    "duration": 760,
    "start_time": "2022-03-29T08:20:49.193Z"
   },
   {
    "duration": 790,
    "start_time": "2022-03-29T08:21:01.684Z"
   },
   {
    "duration": 846,
    "start_time": "2022-03-29T08:21:17.213Z"
   },
   {
    "duration": 753,
    "start_time": "2022-03-29T08:21:19.055Z"
   },
   {
    "duration": 760,
    "start_time": "2022-03-29T08:21:41.223Z"
   },
   {
    "duration": 873,
    "start_time": "2022-03-29T08:22:02.028Z"
   },
   {
    "duration": 959,
    "start_time": "2022-03-29T08:22:26.173Z"
   },
   {
    "duration": 862,
    "start_time": "2022-03-29T08:22:36.720Z"
   },
   {
    "duration": 356,
    "start_time": "2022-03-29T08:29:31.673Z"
   },
   {
    "duration": 250,
    "start_time": "2022-03-29T08:31:42.118Z"
   },
   {
    "duration": 1141,
    "start_time": "2022-03-29T08:31:52.531Z"
   },
   {
    "duration": 1049,
    "start_time": "2022-03-29T08:31:55.002Z"
   },
   {
    "duration": 1136,
    "start_time": "2022-03-29T08:33:37.031Z"
   },
   {
    "duration": 240,
    "start_time": "2022-03-29T08:33:49.286Z"
   },
   {
    "duration": 232,
    "start_time": "2022-03-29T08:34:16.083Z"
   },
   {
    "duration": 365,
    "start_time": "2022-03-29T08:34:22.398Z"
   },
   {
    "duration": 235,
    "start_time": "2022-03-29T08:34:43.946Z"
   },
   {
    "duration": 283,
    "start_time": "2022-03-29T08:35:58.569Z"
   },
   {
    "duration": 301,
    "start_time": "2022-03-29T08:36:05.721Z"
   },
   {
    "duration": 334,
    "start_time": "2022-03-29T08:36:51.042Z"
   },
   {
    "duration": 253,
    "start_time": "2022-03-29T08:38:30.589Z"
   },
   {
    "duration": 229,
    "start_time": "2022-03-29T08:39:22.933Z"
   },
   {
    "duration": 360,
    "start_time": "2022-03-29T08:39:36.770Z"
   },
   {
    "duration": 266,
    "start_time": "2022-03-29T08:40:05.825Z"
   },
   {
    "duration": 235,
    "start_time": "2022-03-29T08:41:34.770Z"
   },
   {
    "duration": 235,
    "start_time": "2022-03-29T08:41:44.171Z"
   },
   {
    "duration": 1082,
    "start_time": "2022-03-29T08:42:06.999Z"
   },
   {
    "duration": 243,
    "start_time": "2022-03-29T08:42:32.972Z"
   },
   {
    "duration": 1205,
    "start_time": "2022-03-29T08:42:43.272Z"
   },
   {
    "duration": 15,
    "start_time": "2022-03-29T08:42:58.795Z"
   },
   {
    "duration": 110,
    "start_time": "2022-03-29T08:44:20.531Z"
   },
   {
    "duration": 1099,
    "start_time": "2022-03-29T08:44:25.531Z"
   },
   {
    "duration": 117,
    "start_time": "2022-03-29T08:45:00.677Z"
   },
   {
    "duration": 125,
    "start_time": "2022-03-29T08:45:08.309Z"
   },
   {
    "duration": 1311,
    "start_time": "2022-03-29T08:45:11.389Z"
   },
   {
    "duration": 1448,
    "start_time": "2022-03-29T08:45:20.232Z"
   },
   {
    "duration": 1224,
    "start_time": "2022-03-29T08:46:21.804Z"
   },
   {
    "duration": 1159,
    "start_time": "2022-03-29T08:46:39.175Z"
   },
   {
    "duration": 382,
    "start_time": "2022-03-29T08:46:59.396Z"
   },
   {
    "duration": 1176,
    "start_time": "2022-03-29T08:47:48.626Z"
   },
   {
    "duration": 1302,
    "start_time": "2022-03-29T08:47:54.051Z"
   },
   {
    "duration": 1254,
    "start_time": "2022-03-29T08:48:24.867Z"
   },
   {
    "duration": 282,
    "start_time": "2022-03-29T08:48:49.770Z"
   },
   {
    "duration": 1257,
    "start_time": "2022-03-29T08:48:55.125Z"
   },
   {
    "duration": 303,
    "start_time": "2022-03-29T08:52:49.752Z"
   },
   {
    "duration": 1410,
    "start_time": "2022-03-29T08:53:01.426Z"
   },
   {
    "duration": 1275,
    "start_time": "2022-03-29T08:53:48.007Z"
   },
   {
    "duration": 118,
    "start_time": "2022-03-29T08:55:56.065Z"
   },
   {
    "duration": 1318,
    "start_time": "2022-03-29T08:56:00.086Z"
   },
   {
    "duration": 1291,
    "start_time": "2022-03-29T08:56:13.743Z"
   },
   {
    "duration": 1261,
    "start_time": "2022-03-29T08:56:38.819Z"
   },
   {
    "duration": 1205,
    "start_time": "2022-03-29T08:57:10.574Z"
   },
   {
    "duration": 287,
    "start_time": "2022-03-29T08:57:39.626Z"
   },
   {
    "duration": 1367,
    "start_time": "2022-03-29T08:57:53.589Z"
   },
   {
    "duration": 1375,
    "start_time": "2022-03-29T08:58:02.647Z"
   },
   {
    "duration": 1390,
    "start_time": "2022-03-29T08:59:37.792Z"
   },
   {
    "duration": 5,
    "start_time": "2022-03-29T09:53:57.089Z"
   },
   {
    "duration": 1831,
    "start_time": "2022-03-29T10:04:17.343Z"
   },
   {
    "duration": 421,
    "start_time": "2022-03-29T10:04:19.179Z"
   },
   {
    "duration": 102,
    "start_time": "2022-03-29T10:04:19.602Z"
   },
   {
    "duration": 908,
    "start_time": "2022-03-29T10:04:19.706Z"
   },
   {
    "duration": 1561,
    "start_time": "2022-03-29T10:04:20.616Z"
   },
   {
    "duration": 22,
    "start_time": "2022-03-29T10:04:22.180Z"
   },
   {
    "duration": 2271,
    "start_time": "2022-03-29T15:21:36.834Z"
   },
   {
    "duration": 453,
    "start_time": "2022-03-29T15:21:39.107Z"
   },
   {
    "duration": 132,
    "start_time": "2022-03-29T15:21:39.568Z"
   },
   {
    "duration": 1611,
    "start_time": "2022-03-29T15:21:39.702Z"
   },
   {
    "duration": 2565,
    "start_time": "2022-03-29T15:21:41.316Z"
   },
   {
    "duration": 26,
    "start_time": "2022-03-29T15:21:43.883Z"
   },
   {
    "duration": 1734,
    "start_time": "2022-03-29T17:41:38.576Z"
   },
   {
    "duration": 408,
    "start_time": "2022-03-29T17:41:40.313Z"
   },
   {
    "duration": 112,
    "start_time": "2022-03-29T17:41:40.722Z"
   },
   {
    "duration": 987,
    "start_time": "2022-03-29T17:41:40.836Z"
   },
   {
    "duration": 1632,
    "start_time": "2022-03-29T17:41:41.825Z"
   },
   {
    "duration": 23,
    "start_time": "2022-03-29T17:41:43.458Z"
   },
   {
    "duration": 206,
    "start_time": "2022-03-29T17:46:54.568Z"
   },
   {
    "duration": 187,
    "start_time": "2022-03-29T17:47:05.270Z"
   },
   {
    "duration": 43,
    "start_time": "2022-03-29T17:47:18.674Z"
   },
   {
    "duration": 61,
    "start_time": "2022-03-29T17:47:27.991Z"
   },
   {
    "duration": 45,
    "start_time": "2022-03-29T17:48:00.352Z"
   },
   {
    "duration": 41,
    "start_time": "2022-03-29T17:48:15.478Z"
   },
   {
    "duration": 44,
    "start_time": "2022-03-29T17:56:14.071Z"
   },
   {
    "duration": 52,
    "start_time": "2022-03-29T17:58:00.612Z"
   },
   {
    "duration": 132,
    "start_time": "2022-03-29T18:05:04.960Z"
   },
   {
    "duration": 2069,
    "start_time": "2022-03-29T18:44:11.237Z"
   },
   {
    "duration": 6,
    "start_time": "2022-03-29T18:44:13.308Z"
   },
   {
    "duration": 403,
    "start_time": "2022-03-29T18:44:13.316Z"
   },
   {
    "duration": 111,
    "start_time": "2022-03-29T18:44:13.722Z"
   },
   {
    "duration": 910,
    "start_time": "2022-03-29T18:44:13.835Z"
   },
   {
    "duration": 1524,
    "start_time": "2022-03-29T18:44:14.747Z"
   },
   {
    "duration": 37,
    "start_time": "2022-03-29T18:44:16.273Z"
   },
   {
    "duration": 43,
    "start_time": "2022-03-29T18:44:16.311Z"
   },
   {
    "duration": 1514,
    "start_time": "2022-03-29T18:45:12.051Z"
   },
   {
    "duration": 6,
    "start_time": "2022-03-29T18:45:13.567Z"
   },
   {
    "duration": 393,
    "start_time": "2022-03-29T18:45:13.575Z"
   },
   {
    "duration": 118,
    "start_time": "2022-03-29T18:45:13.971Z"
   },
   {
    "duration": 899,
    "start_time": "2022-03-29T18:45:14.091Z"
   },
   {
    "duration": 1618,
    "start_time": "2022-03-29T18:45:14.992Z"
   },
   {
    "duration": 26,
    "start_time": "2022-03-29T18:45:16.612Z"
   },
   {
    "duration": 74,
    "start_time": "2022-03-29T18:45:16.641Z"
   },
   {
    "duration": 113,
    "start_time": "2022-03-29T18:46:06.405Z"
   },
   {
    "duration": 15,
    "start_time": "2022-03-29T18:50:42.269Z"
   },
   {
    "duration": 1917,
    "start_time": "2022-03-29T18:50:49.796Z"
   },
   {
    "duration": 6,
    "start_time": "2022-03-29T18:50:51.715Z"
   },
   {
    "duration": 404,
    "start_time": "2022-03-29T18:50:51.723Z"
   },
   {
    "duration": 113,
    "start_time": "2022-03-29T18:50:52.129Z"
   },
   {
    "duration": 959,
    "start_time": "2022-03-29T18:50:52.245Z"
   },
   {
    "duration": 1513,
    "start_time": "2022-03-29T18:50:53.206Z"
   },
   {
    "duration": 23,
    "start_time": "2022-03-29T18:50:54.721Z"
   },
   {
    "duration": 76,
    "start_time": "2022-03-29T18:50:54.746Z"
   },
   {
    "duration": 125,
    "start_time": "2022-03-29T18:50:54.824Z"
   },
   {
    "duration": 11,
    "start_time": "2022-03-29T18:50:56.492Z"
   },
   {
    "duration": 20,
    "start_time": "2022-03-29T18:51:13.006Z"
   },
   {
    "duration": 776,
    "start_time": "2022-03-29T18:51:31.035Z"
   },
   {
    "duration": 717,
    "start_time": "2022-03-29T18:51:50.593Z"
   },
   {
    "duration": 2344,
    "start_time": "2022-03-29T18:51:56.360Z"
   },
   {
    "duration": 2304,
    "start_time": "2022-03-29T18:52:26.805Z"
   },
   {
    "duration": 2294,
    "start_time": "2022-03-29T18:52:41.909Z"
   },
   {
    "duration": 2194,
    "start_time": "2022-03-29T18:52:59.216Z"
   },
   {
    "duration": 2244,
    "start_time": "2022-03-29T18:55:38.360Z"
   },
   {
    "duration": 2213,
    "start_time": "2022-03-29T18:57:02.099Z"
   },
   {
    "duration": 143,
    "start_time": "2022-03-29T18:57:19.295Z"
   },
   {
    "duration": 141,
    "start_time": "2022-03-29T18:57:25.190Z"
   },
   {
    "duration": 2142,
    "start_time": "2022-03-29T18:57:29.363Z"
   },
   {
    "duration": 2089,
    "start_time": "2022-03-29T18:57:34.321Z"
   },
   {
    "duration": 2132,
    "start_time": "2022-03-29T18:58:37.774Z"
   },
   {
    "duration": 2170,
    "start_time": "2022-03-29T18:59:35.940Z"
   },
   {
    "duration": 2078,
    "start_time": "2022-03-29T19:01:17.335Z"
   },
   {
    "duration": 2240,
    "start_time": "2022-03-29T19:01:28.561Z"
   },
   {
    "duration": 721,
    "start_time": "2022-03-29T19:01:38.582Z"
   },
   {
    "duration": 2334,
    "start_time": "2022-03-29T19:01:43.569Z"
   },
   {
    "duration": 2109,
    "start_time": "2022-03-29T19:02:16.299Z"
   },
   {
    "duration": 1559,
    "start_time": "2022-03-29T19:03:10.316Z"
   },
   {
    "duration": 7,
    "start_time": "2022-03-29T19:03:11.877Z"
   },
   {
    "duration": 422,
    "start_time": "2022-03-29T19:03:11.886Z"
   },
   {
    "duration": 120,
    "start_time": "2022-03-29T19:03:12.312Z"
   },
   {
    "duration": 911,
    "start_time": "2022-03-29T19:03:12.435Z"
   },
   {
    "duration": 1580,
    "start_time": "2022-03-29T19:03:13.348Z"
   },
   {
    "duration": 25,
    "start_time": "2022-03-29T19:03:14.930Z"
   },
   {
    "duration": 82,
    "start_time": "2022-03-29T19:03:14.957Z"
   },
   {
    "duration": 3198,
    "start_time": "2022-03-29T19:03:48.349Z"
   },
   {
    "duration": 3438,
    "start_time": "2022-03-29T19:04:05.837Z"
   },
   {
    "duration": 2289,
    "start_time": "2022-03-29T19:04:31.816Z"
   },
   {
    "duration": 2221,
    "start_time": "2022-03-29T19:05:11.481Z"
   },
   {
    "duration": 204,
    "start_time": "2022-03-29T19:06:22.722Z"
   },
   {
    "duration": 165,
    "start_time": "2022-03-29T19:06:34.203Z"
   },
   {
    "duration": 11,
    "start_time": "2022-03-29T19:06:40.373Z"
   },
   {
    "duration": 9,
    "start_time": "2022-03-29T19:06:44.148Z"
   },
   {
    "duration": 25,
    "start_time": "2022-03-29T19:06:50.347Z"
   },
   {
    "duration": 23578,
    "start_time": "2022-03-29T19:07:01.640Z"
   },
   {
    "duration": 7,
    "start_time": "2022-03-29T19:09:19.099Z"
   },
   {
    "duration": 1680,
    "start_time": "2022-03-29T19:09:30.690Z"
   },
   {
    "duration": 7,
    "start_time": "2022-03-29T19:09:32.372Z"
   },
   {
    "duration": 401,
    "start_time": "2022-03-29T19:09:32.381Z"
   },
   {
    "duration": 103,
    "start_time": "2022-03-29T19:09:32.785Z"
   },
   {
    "duration": 924,
    "start_time": "2022-03-29T19:09:32.900Z"
   },
   {
    "duration": 1514,
    "start_time": "2022-03-29T19:09:33.826Z"
   },
   {
    "duration": 23,
    "start_time": "2022-03-29T19:09:35.341Z"
   },
   {
    "duration": 68,
    "start_time": "2022-03-29T19:09:35.366Z"
   },
   {
    "duration": 2265,
    "start_time": "2022-03-29T19:09:35.436Z"
   },
   {
    "duration": 118,
    "start_time": "2022-03-29T19:10:12.519Z"
   },
   {
    "duration": 23110,
    "start_time": "2022-03-29T19:10:18.931Z"
   },
   {
    "duration": 201,
    "start_time": "2022-03-29T19:10:59.607Z"
   },
   {
    "duration": 245,
    "start_time": "2022-03-29T19:11:56.961Z"
   },
   {
    "duration": 191,
    "start_time": "2022-03-29T19:12:00.314Z"
   },
   {
    "duration": 6,
    "start_time": "2022-03-29T19:15:35.337Z"
   },
   {
    "duration": 22845,
    "start_time": "2022-03-29T19:15:43.182Z"
   },
   {
    "duration": 23462,
    "start_time": "2022-03-29T19:16:34.680Z"
   },
   {
    "duration": 21486,
    "start_time": "2022-03-29T19:17:22.450Z"
   },
   {
    "duration": 305,
    "start_time": "2022-03-29T19:19:39.997Z"
   },
   {
    "duration": 168,
    "start_time": "2022-03-29T19:20:19.837Z"
   },
   {
    "duration": 144,
    "start_time": "2022-03-29T19:25:46.368Z"
   },
   {
    "duration": 17,
    "start_time": "2022-03-29T19:25:51.171Z"
   },
   {
    "duration": 21,
    "start_time": "2022-03-29T19:26:13.937Z"
   },
   {
    "duration": 16,
    "start_time": "2022-03-29T19:26:48.002Z"
   },
   {
    "duration": 17,
    "start_time": "2022-03-29T19:26:54.390Z"
   },
   {
    "duration": 74,
    "start_time": "2022-03-30T05:45:35.925Z"
   },
   {
    "duration": 2220,
    "start_time": "2022-03-30T05:45:41.222Z"
   },
   {
    "duration": 9,
    "start_time": "2022-03-30T05:45:43.445Z"
   },
   {
    "duration": 533,
    "start_time": "2022-03-30T05:45:43.457Z"
   },
   {
    "duration": 140,
    "start_time": "2022-03-30T05:45:43.994Z"
   },
   {
    "duration": 1652,
    "start_time": "2022-03-30T05:45:44.136Z"
   },
   {
    "duration": 2496,
    "start_time": "2022-03-30T05:45:45.790Z"
   },
   {
    "duration": 26,
    "start_time": "2022-03-30T05:45:48.289Z"
   },
   {
    "duration": 75,
    "start_time": "2022-03-30T05:45:48.318Z"
   },
   {
    "duration": 2491,
    "start_time": "2022-03-30T05:45:48.396Z"
   },
   {
    "duration": 31144,
    "start_time": "2022-03-30T05:45:50.893Z"
   },
   {
    "duration": 346,
    "start_time": "2022-03-30T05:46:22.039Z"
   },
   {
    "duration": 193,
    "start_time": "2022-03-30T05:46:22.593Z"
   },
   {
    "duration": 108,
    "start_time": "2022-03-30T05:46:49.683Z"
   },
   {
    "duration": 34,
    "start_time": "2022-03-30T05:49:10.107Z"
   },
   {
    "duration": 128,
    "start_time": "2022-03-30T05:49:17.758Z"
   },
   {
    "duration": 2022,
    "start_time": "2022-03-30T05:50:12.204Z"
   },
   {
    "duration": 10,
    "start_time": "2022-03-30T05:50:14.230Z"
   },
   {
    "duration": 682,
    "start_time": "2022-03-30T05:50:14.241Z"
   },
   {
    "duration": 139,
    "start_time": "2022-03-30T05:50:14.926Z"
   },
   {
    "duration": 1386,
    "start_time": "2022-03-30T05:50:15.068Z"
   },
   {
    "duration": 2578,
    "start_time": "2022-03-30T05:50:16.456Z"
   },
   {
    "duration": 47,
    "start_time": "2022-03-30T05:50:19.037Z"
   },
   {
    "duration": 47,
    "start_time": "2022-03-30T05:50:21.149Z"
   },
   {
    "duration": 2229,
    "start_time": "2022-03-30T05:50:25.356Z"
   },
   {
    "duration": 56,
    "start_time": "2022-03-30T05:50:48.390Z"
   },
   {
    "duration": 2065,
    "start_time": "2022-03-30T05:52:37.419Z"
   },
   {
    "duration": 27842,
    "start_time": "2022-03-30T05:52:44.365Z"
   },
   {
    "duration": 2041,
    "start_time": "2022-03-30T06:01:38.176Z"
   },
   {
    "duration": 8,
    "start_time": "2022-03-30T06:01:40.220Z"
   },
   {
    "duration": 494,
    "start_time": "2022-03-30T06:01:40.230Z"
   },
   {
    "duration": 135,
    "start_time": "2022-03-30T06:01:40.726Z"
   },
   {
    "duration": 1410,
    "start_time": "2022-03-30T06:01:40.864Z"
   },
   {
    "duration": 2409,
    "start_time": "2022-03-30T06:01:42.277Z"
   },
   {
    "duration": 28,
    "start_time": "2022-03-30T06:01:44.688Z"
   },
   {
    "duration": 77,
    "start_time": "2022-03-30T06:01:44.718Z"
   },
   {
    "duration": 189,
    "start_time": "2022-03-30T06:01:44.798Z"
   },
   {
    "duration": 15,
    "start_time": "2022-03-30T06:02:45.721Z"
   },
   {
    "duration": 1955,
    "start_time": "2022-03-30T06:02:52.751Z"
   },
   {
    "duration": 9,
    "start_time": "2022-03-30T06:02:54.709Z"
   },
   {
    "duration": 491,
    "start_time": "2022-03-30T06:02:54.723Z"
   },
   {
    "duration": 133,
    "start_time": "2022-03-30T06:02:55.217Z"
   },
   {
    "duration": 1568,
    "start_time": "2022-03-30T06:02:55.352Z"
   },
   {
    "duration": 2489,
    "start_time": "2022-03-30T06:02:56.922Z"
   },
   {
    "duration": 28,
    "start_time": "2022-03-30T06:02:59.414Z"
   },
   {
    "duration": 79,
    "start_time": "2022-03-30T06:02:59.445Z"
   },
   {
    "duration": 30096,
    "start_time": "2022-03-30T06:03:23.516Z"
   },
   {
    "duration": 2092,
    "start_time": "2022-03-30T06:04:55.539Z"
   },
   {
    "duration": 8,
    "start_time": "2022-03-30T06:04:57.633Z"
   },
   {
    "duration": 502,
    "start_time": "2022-03-30T06:04:57.643Z"
   },
   {
    "duration": 137,
    "start_time": "2022-03-30T06:04:58.148Z"
   },
   {
    "duration": 1520,
    "start_time": "2022-03-30T06:04:58.287Z"
   },
   {
    "duration": 2290,
    "start_time": "2022-03-30T06:04:59.810Z"
   },
   {
    "duration": 28,
    "start_time": "2022-03-30T06:05:02.103Z"
   },
   {
    "duration": 91,
    "start_time": "2022-03-30T06:05:02.133Z"
   },
   {
    "duration": 10919,
    "start_time": "2022-03-30T06:05:31.110Z"
   },
   {
    "duration": 2519,
    "start_time": "2022-03-30T06:05:50.668Z"
   },
   {
    "duration": 29132,
    "start_time": "2022-03-30T06:05:59.076Z"
   },
   {
    "duration": 1981,
    "start_time": "2022-03-30T06:08:05.519Z"
   },
   {
    "duration": 9,
    "start_time": "2022-03-30T06:08:07.506Z"
   },
   {
    "duration": 516,
    "start_time": "2022-03-30T06:08:07.517Z"
   },
   {
    "duration": 131,
    "start_time": "2022-03-30T06:08:08.035Z"
   },
   {
    "duration": 1517,
    "start_time": "2022-03-30T06:08:08.168Z"
   },
   {
    "duration": 2308,
    "start_time": "2022-03-30T06:08:09.687Z"
   },
   {
    "duration": 30,
    "start_time": "2022-03-30T06:08:11.997Z"
   },
   {
    "duration": 86,
    "start_time": "2022-03-30T06:08:12.030Z"
   },
   {
    "duration": 2476,
    "start_time": "2022-03-30T06:08:16.316Z"
   },
   {
    "duration": 15365,
    "start_time": "2022-03-30T06:08:20.005Z"
   },
   {
    "duration": 208,
    "start_time": "2022-03-30T06:09:18.785Z"
   },
   {
    "duration": 14869,
    "start_time": "2022-03-30T06:09:39.566Z"
   },
   {
    "duration": 38430,
    "start_time": "2022-03-30T06:10:30.297Z"
   },
   {
    "duration": 44362,
    "start_time": "2022-03-30T06:32:07.060Z"
   },
   {
    "duration": 20506,
    "start_time": "2022-03-30T06:32:52.696Z"
   },
   {
    "duration": 362,
    "start_time": "2022-03-30T06:33:34.222Z"
   },
   {
    "duration": 481,
    "start_time": "2022-03-30T06:33:48.608Z"
   },
   {
    "duration": 463,
    "start_time": "2022-03-30T06:33:58.428Z"
   },
   {
    "duration": 190,
    "start_time": "2022-03-30T06:34:27.202Z"
   },
   {
    "duration": 104,
    "start_time": "2022-03-30T06:34:37.844Z"
   },
   {
    "duration": 192,
    "start_time": "2022-03-30T06:34:46.400Z"
   },
   {
    "duration": 196,
    "start_time": "2022-03-30T06:34:49.899Z"
   },
   {
    "duration": 308,
    "start_time": "2022-03-30T06:35:34.479Z"
   },
   {
    "duration": 426,
    "start_time": "2022-03-30T06:36:35.264Z"
   },
   {
    "duration": 233,
    "start_time": "2022-03-30T06:37:18.759Z"
   },
   {
    "duration": 204,
    "start_time": "2022-03-30T06:37:49.383Z"
   },
   {
    "duration": 401,
    "start_time": "2022-03-30T06:38:02.799Z"
   },
   {
    "duration": 3678,
    "start_time": "2022-03-30T07:06:54.237Z"
   },
   {
    "duration": 11604,
    "start_time": "2022-03-30T07:07:21.028Z"
   },
   {
    "duration": 1103,
    "start_time": "2022-03-30T07:08:07.443Z"
   },
   {
    "duration": 15,
    "start_time": "2022-03-30T07:09:33.626Z"
   },
   {
    "duration": 2012,
    "start_time": "2022-03-30T07:10:44.773Z"
   },
   {
    "duration": 5,
    "start_time": "2022-03-30T07:11:49.634Z"
   },
   {
    "duration": 20,
    "start_time": "2022-03-30T07:12:04.104Z"
   },
   {
    "duration": 6,
    "start_time": "2022-03-30T07:15:54.513Z"
   },
   {
    "duration": 5,
    "start_time": "2022-03-30T07:16:05.645Z"
   },
   {
    "duration": 17,
    "start_time": "2022-03-30T07:16:07.835Z"
   },
   {
    "duration": 37,
    "start_time": "2022-03-30T07:16:12.811Z"
   },
   {
    "duration": 46,
    "start_time": "2022-03-30T07:16:40.078Z"
   },
   {
    "duration": 20,
    "start_time": "2022-03-30T07:17:26.209Z"
   },
   {
    "duration": 41,
    "start_time": "2022-03-30T07:17:56.406Z"
   },
   {
    "duration": 122,
    "start_time": "2022-03-30T07:18:53.907Z"
   },
   {
    "duration": 860,
    "start_time": "2022-03-30T07:18:57.277Z"
   },
   {
    "duration": 218,
    "start_time": "2022-03-30T07:21:08.112Z"
   },
   {
    "duration": 162,
    "start_time": "2022-03-30T07:21:58.997Z"
   },
   {
    "duration": 1984,
    "start_time": "2022-03-30T07:22:03.611Z"
   },
   {
    "duration": 854,
    "start_time": "2022-03-30T07:22:41.596Z"
   },
   {
    "duration": 305,
    "start_time": "2022-03-30T07:27:01.437Z"
   },
   {
    "duration": 993,
    "start_time": "2022-03-30T07:27:09.718Z"
   },
   {
    "duration": 290,
    "start_time": "2022-03-30T07:27:33.743Z"
   },
   {
    "duration": 22,
    "start_time": "2022-03-30T07:27:50.561Z"
   },
   {
    "duration": 0,
    "start_time": "2022-03-30T07:30:08.243Z"
   },
   {
    "duration": 13,
    "start_time": "2022-03-30T07:30:15.901Z"
   },
   {
    "duration": 0,
    "start_time": "2022-03-30T07:30:59.418Z"
   },
   {
    "duration": 24,
    "start_time": "2022-03-30T07:31:01.596Z"
   },
   {
    "duration": 417,
    "start_time": "2022-03-30T07:31:33.773Z"
   },
   {
    "duration": 21,
    "start_time": "2022-03-30T07:32:51.345Z"
   },
   {
    "duration": 396,
    "start_time": "2022-03-30T07:33:21.180Z"
   },
   {
    "duration": 251,
    "start_time": "2022-03-30T07:33:36.451Z"
   },
   {
    "duration": 254,
    "start_time": "2022-03-30T07:33:48.896Z"
   },
   {
    "duration": 300,
    "start_time": "2022-03-30T07:33:57.220Z"
   },
   {
    "duration": 256,
    "start_time": "2022-03-30T07:34:05.938Z"
   },
   {
    "duration": 756,
    "start_time": "2022-03-30T07:34:58.211Z"
   },
   {
    "duration": 230,
    "start_time": "2022-03-30T07:35:22.698Z"
   },
   {
    "duration": 226,
    "start_time": "2022-03-30T07:35:30.266Z"
   },
   {
    "duration": 820,
    "start_time": "2022-03-30T07:35:36.368Z"
   },
   {
    "duration": 795,
    "start_time": "2022-03-30T07:35:40.845Z"
   },
   {
    "duration": 1113,
    "start_time": "2022-03-30T07:35:56.431Z"
   },
   {
    "duration": 1623,
    "start_time": "2022-03-30T07:36:25.969Z"
   },
   {
    "duration": 1594,
    "start_time": "2022-03-30T07:36:59.632Z"
   },
   {
    "duration": 1444,
    "start_time": "2022-03-30T07:44:07.331Z"
   },
   {
    "duration": 1696,
    "start_time": "2022-03-30T07:47:03.547Z"
   },
   {
    "duration": 997,
    "start_time": "2022-03-30T08:01:24.908Z"
   },
   {
    "duration": 222,
    "start_time": "2022-03-30T08:01:30.130Z"
   },
   {
    "duration": 186,
    "start_time": "2022-03-30T08:01:45.797Z"
   },
   {
    "duration": 208,
    "start_time": "2022-03-30T08:01:50.502Z"
   },
   {
    "duration": 1529,
    "start_time": "2022-03-30T08:01:58.428Z"
   },
   {
    "duration": 3123,
    "start_time": "2022-03-30T08:03:45.998Z"
   },
   {
    "duration": 2975,
    "start_time": "2022-03-30T08:04:01.176Z"
   },
   {
    "duration": 2961,
    "start_time": "2022-03-30T08:05:09.713Z"
   },
   {
    "duration": 1557,
    "start_time": "2022-03-30T08:06:40.351Z"
   },
   {
    "duration": 1545,
    "start_time": "2022-03-30T08:06:49.807Z"
   },
   {
    "duration": 1618,
    "start_time": "2022-03-30T08:07:04.633Z"
   },
   {
    "duration": 2956,
    "start_time": "2022-03-30T08:08:17.416Z"
   },
   {
    "duration": 486,
    "start_time": "2022-03-30T08:08:54.179Z"
   },
   {
    "duration": 2941,
    "start_time": "2022-03-30T08:09:27.799Z"
   },
   {
    "duration": 3270,
    "start_time": "2022-03-30T08:09:39.535Z"
   },
   {
    "duration": 3249,
    "start_time": "2022-03-30T08:09:56.150Z"
   },
   {
    "duration": 4220,
    "start_time": "2022-03-30T08:10:45.427Z"
   },
   {
    "duration": 3250,
    "start_time": "2022-03-30T08:10:52.818Z"
   },
   {
    "duration": 3685,
    "start_time": "2022-03-30T08:10:59.514Z"
   },
   {
    "duration": 1595,
    "start_time": "2022-03-30T08:11:17.945Z"
   },
   {
    "duration": 1601,
    "start_time": "2022-03-30T08:11:32.902Z"
   },
   {
    "duration": 1521,
    "start_time": "2022-03-30T08:11:36.224Z"
   },
   {
    "duration": 1574,
    "start_time": "2022-03-30T08:11:53.779Z"
   },
   {
    "duration": 1667,
    "start_time": "2022-03-30T08:12:34.121Z"
   },
   {
    "duration": 1879,
    "start_time": "2022-03-30T08:12:41.136Z"
   },
   {
    "duration": 1638,
    "start_time": "2022-03-30T08:12:49.707Z"
   },
   {
    "duration": 1681,
    "start_time": "2022-03-30T08:12:54.857Z"
   },
   {
    "duration": 1801,
    "start_time": "2022-03-30T08:14:40.686Z"
   },
   {
    "duration": 1649,
    "start_time": "2022-03-30T08:14:47.978Z"
   },
   {
    "duration": 1681,
    "start_time": "2022-03-30T08:16:11.704Z"
   },
   {
    "duration": 8,
    "start_time": "2022-03-30T08:24:47.532Z"
   },
   {
    "duration": 11,
    "start_time": "2022-03-30T08:29:44.510Z"
   },
   {
    "duration": 2421,
    "start_time": "2022-03-30T08:34:16.404Z"
   },
   {
    "duration": 9,
    "start_time": "2022-03-30T08:34:18.828Z"
   },
   {
    "duration": 524,
    "start_time": "2022-03-30T08:34:18.840Z"
   },
   {
    "duration": 139,
    "start_time": "2022-03-30T08:34:19.367Z"
   },
   {
    "duration": 1564,
    "start_time": "2022-03-30T08:34:19.508Z"
   },
   {
    "duration": 2288,
    "start_time": "2022-03-30T08:34:21.074Z"
   },
   {
    "duration": 38,
    "start_time": "2022-03-30T08:34:23.364Z"
   },
   {
    "duration": 83,
    "start_time": "2022-03-30T08:34:23.404Z"
   },
   {
    "duration": 2695,
    "start_time": "2022-03-30T08:34:23.489Z"
   },
   {
    "duration": 21444,
    "start_time": "2022-03-30T08:34:26.187Z"
   },
   {
    "duration": 353,
    "start_time": "2022-03-30T08:34:47.634Z"
   },
   {
    "duration": 1892,
    "start_time": "2022-03-30T08:34:47.991Z"
   },
   {
    "duration": 13,
    "start_time": "2022-03-30T08:34:49.886Z"
   },
   {
    "duration": 9557,
    "start_time": "2022-03-30T08:34:52.222Z"
   },
   {
    "duration": 15355,
    "start_time": "2022-03-30T08:36:36.775Z"
   },
   {
    "duration": 0,
    "start_time": "2022-03-30T08:37:40.952Z"
   },
   {
    "duration": 2058,
    "start_time": "2022-03-30T08:37:43.827Z"
   },
   {
    "duration": 7,
    "start_time": "2022-03-30T08:37:48.278Z"
   },
   {
    "duration": 296,
    "start_time": "2022-03-30T08:37:51.298Z"
   },
   {
    "duration": 2134,
    "start_time": "2022-03-30T08:37:53.222Z"
   },
   {
    "duration": 32,
    "start_time": "2022-03-30T08:37:55.359Z"
   },
   {
    "duration": 24,
    "start_time": "2022-03-30T08:37:55.507Z"
   },
   {
    "duration": 5,
    "start_time": "2022-03-30T09:07:57.407Z"
   },
   {
    "duration": 8,
    "start_time": "2022-03-30T09:08:06.760Z"
   },
   {
    "duration": 10,
    "start_time": "2022-03-30T09:08:21.701Z"
   },
   {
    "duration": 7,
    "start_time": "2022-03-30T09:08:51.183Z"
   },
   {
    "duration": 12,
    "start_time": "2022-03-30T09:09:16.355Z"
   },
   {
    "duration": 12,
    "start_time": "2022-03-30T09:10:57.617Z"
   },
   {
    "duration": 12,
    "start_time": "2022-03-30T09:11:19.494Z"
   },
   {
    "duration": 13,
    "start_time": "2022-03-30T09:11:22.026Z"
   },
   {
    "duration": 6,
    "start_time": "2022-03-30T09:43:11.399Z"
   },
   {
    "duration": 5,
    "start_time": "2022-03-30T09:45:49.118Z"
   },
   {
    "duration": 6,
    "start_time": "2022-03-30T09:45:52.344Z"
   },
   {
    "duration": 6,
    "start_time": "2022-03-30T09:46:01.888Z"
   },
   {
    "duration": 9,
    "start_time": "2022-03-30T09:46:58.663Z"
   },
   {
    "duration": 12,
    "start_time": "2022-03-30T09:51:03.434Z"
   },
   {
    "duration": 12,
    "start_time": "2022-03-30T09:53:35.863Z"
   },
   {
    "duration": 13,
    "start_time": "2022-03-30T09:53:52.809Z"
   },
   {
    "duration": 8,
    "start_time": "2022-03-30T09:53:59.793Z"
   },
   {
    "duration": 15,
    "start_time": "2022-03-30T09:54:06.516Z"
   },
   {
    "duration": 10,
    "start_time": "2022-03-30T09:54:31.495Z"
   },
   {
    "duration": 11,
    "start_time": "2022-03-30T09:54:38.348Z"
   },
   {
    "duration": 18,
    "start_time": "2022-03-30T09:54:43.051Z"
   },
   {
    "duration": 13,
    "start_time": "2022-03-30T09:54:45.922Z"
   },
   {
    "duration": 10,
    "start_time": "2022-03-30T09:54:49.229Z"
   },
   {
    "duration": 12,
    "start_time": "2022-03-30T09:55:10.034Z"
   },
   {
    "duration": 11,
    "start_time": "2022-03-30T09:55:25.787Z"
   },
   {
    "duration": 10,
    "start_time": "2022-03-30T09:58:51.665Z"
   },
   {
    "duration": 11,
    "start_time": "2022-03-30T09:59:52.477Z"
   },
   {
    "duration": 10,
    "start_time": "2022-03-30T10:00:33.911Z"
   },
   {
    "duration": 11,
    "start_time": "2022-03-30T10:00:41.136Z"
   },
   {
    "duration": 19,
    "start_time": "2022-03-30T10:01:14.292Z"
   },
   {
    "duration": 2165,
    "start_time": "2022-03-30T10:08:15.207Z"
   },
   {
    "duration": 11,
    "start_time": "2022-03-30T10:08:17.375Z"
   },
   {
    "duration": 670,
    "start_time": "2022-03-30T10:08:17.390Z"
   },
   {
    "duration": 171,
    "start_time": "2022-03-30T10:08:18.063Z"
   },
   {
    "duration": 1617,
    "start_time": "2022-03-30T10:08:18.238Z"
   },
   {
    "duration": 2483,
    "start_time": "2022-03-30T10:08:19.857Z"
   },
   {
    "duration": 47,
    "start_time": "2022-03-30T10:08:22.342Z"
   },
   {
    "duration": 65,
    "start_time": "2022-03-30T10:08:22.392Z"
   },
   {
    "duration": 2210,
    "start_time": "2022-03-30T10:08:22.484Z"
   },
   {
    "duration": 91,
    "start_time": "2022-03-30T10:08:24.706Z"
   },
   {
    "duration": 289,
    "start_time": "2022-03-30T10:08:24.800Z"
   },
   {
    "duration": 88,
    "start_time": "2022-03-30T10:08:25.097Z"
   },
   {
    "duration": 2059,
    "start_time": "2022-03-30T10:08:25.189Z"
   },
   {
    "duration": 55,
    "start_time": "2022-03-30T10:08:27.253Z"
   },
   {
    "duration": 16,
    "start_time": "2022-03-30T10:08:27.312Z"
   },
   {
    "duration": 1750,
    "start_time": "2022-03-30T13:28:56.352Z"
   },
   {
    "duration": 6,
    "start_time": "2022-03-30T13:28:58.104Z"
   },
   {
    "duration": 389,
    "start_time": "2022-03-30T13:28:58.112Z"
   },
   {
    "duration": 95,
    "start_time": "2022-03-30T13:28:58.503Z"
   },
   {
    "duration": 1039,
    "start_time": "2022-03-30T13:28:58.601Z"
   },
   {
    "duration": 1560,
    "start_time": "2022-03-30T13:28:59.641Z"
   },
   {
    "duration": 33,
    "start_time": "2022-03-30T13:29:01.203Z"
   },
   {
    "duration": 50,
    "start_time": "2022-03-30T13:29:01.238Z"
   },
   {
    "duration": 2248,
    "start_time": "2022-03-30T13:29:01.290Z"
   },
   {
    "duration": 93,
    "start_time": "2022-03-30T13:29:03.541Z"
   },
   {
    "duration": 202,
    "start_time": "2022-03-30T13:29:03.636Z"
   },
   {
    "duration": 99,
    "start_time": "2022-03-30T13:29:03.840Z"
   },
   {
    "duration": 1281,
    "start_time": "2022-03-30T13:29:03.941Z"
   },
   {
    "duration": 15,
    "start_time": "2022-03-30T13:29:05.232Z"
   },
   {
    "duration": 7,
    "start_time": "2022-03-30T13:29:05.248Z"
   },
   {
    "duration": 8,
    "start_time": "2022-03-30T13:29:05.257Z"
   },
   {
    "duration": 0,
    "start_time": "2022-03-30T13:34:33.705Z"
   },
   {
    "duration": 1677,
    "start_time": "2022-03-30T13:34:41.140Z"
   },
   {
    "duration": 6,
    "start_time": "2022-03-30T13:34:42.819Z"
   },
   {
    "duration": 422,
    "start_time": "2022-03-30T13:34:42.827Z"
   },
   {
    "duration": 106,
    "start_time": "2022-03-30T13:34:43.252Z"
   },
   {
    "duration": 1020,
    "start_time": "2022-03-30T13:34:43.360Z"
   },
   {
    "duration": 1562,
    "start_time": "2022-03-30T13:34:44.381Z"
   },
   {
    "duration": 22,
    "start_time": "2022-03-30T13:34:45.944Z"
   },
   {
    "duration": 67,
    "start_time": "2022-03-30T13:34:45.968Z"
   },
   {
    "duration": 2097,
    "start_time": "2022-03-30T13:34:46.037Z"
   },
   {
    "duration": 95,
    "start_time": "2022-03-30T13:34:48.138Z"
   },
   {
    "duration": 203,
    "start_time": "2022-03-30T13:34:48.235Z"
   },
   {
    "duration": 94,
    "start_time": "2022-03-30T13:34:48.441Z"
   },
   {
    "duration": 1281,
    "start_time": "2022-03-30T13:34:48.538Z"
   },
   {
    "duration": 21,
    "start_time": "2022-03-30T13:34:49.821Z"
   },
   {
    "duration": 10,
    "start_time": "2022-03-30T13:34:49.845Z"
   },
   {
    "duration": 7,
    "start_time": "2022-03-30T13:34:49.858Z"
   },
   {
    "duration": 3,
    "start_time": "2022-03-30T13:35:45.967Z"
   },
   {
    "duration": 215,
    "start_time": "2022-03-30T13:35:50.974Z"
   },
   {
    "duration": 130,
    "start_time": "2022-03-30T13:36:03.038Z"
   },
   {
    "duration": 5,
    "start_time": "2022-03-30T13:37:05.221Z"
   },
   {
    "duration": 23,
    "start_time": "2022-03-30T13:37:07.399Z"
   },
   {
    "duration": 9,
    "start_time": "2022-03-30T13:38:11.642Z"
   },
   {
    "duration": 9,
    "start_time": "2022-03-30T13:38:48.438Z"
   },
   {
    "duration": 7,
    "start_time": "2022-03-30T13:39:08.512Z"
   },
   {
    "duration": 13,
    "start_time": "2022-03-30T13:39:34.293Z"
   },
   {
    "duration": 8,
    "start_time": "2022-03-30T13:40:26.576Z"
   },
   {
    "duration": 12,
    "start_time": "2022-03-30T13:40:41.622Z"
   },
   {
    "duration": 9,
    "start_time": "2022-03-30T13:41:19.167Z"
   },
   {
    "duration": 9,
    "start_time": "2022-03-30T13:41:32.661Z"
   },
   {
    "duration": 18,
    "start_time": "2022-03-30T13:41:57.038Z"
   },
   {
    "duration": 9,
    "start_time": "2022-03-30T13:42:37.710Z"
   },
   {
    "duration": 14,
    "start_time": "2022-03-30T13:42:46.253Z"
   },
   {
    "duration": 8,
    "start_time": "2022-03-30T13:42:53.048Z"
   },
   {
    "duration": 9,
    "start_time": "2022-03-30T13:43:09.640Z"
   },
   {
    "duration": 9,
    "start_time": "2022-03-30T13:43:22.263Z"
   },
   {
    "duration": 8,
    "start_time": "2022-03-30T13:43:42.695Z"
   },
   {
    "duration": 15,
    "start_time": "2022-03-30T13:51:36.212Z"
   },
   {
    "duration": 12,
    "start_time": "2022-03-30T13:51:36.230Z"
   },
   {
    "duration": 463,
    "start_time": "2022-03-30T13:51:36.244Z"
   },
   {
    "duration": 141,
    "start_time": "2022-03-30T13:51:36.709Z"
   },
   {
    "duration": 1356,
    "start_time": "2022-03-30T13:51:36.852Z"
   },
   {
    "duration": 2123,
    "start_time": "2022-03-30T13:51:38.211Z"
   },
   {
    "duration": 48,
    "start_time": "2022-03-30T13:51:40.336Z"
   },
   {
    "duration": 48,
    "start_time": "2022-03-30T13:51:40.387Z"
   },
   {
    "duration": 2053,
    "start_time": "2022-03-30T13:51:40.438Z"
   },
   {
    "duration": 7,
    "start_time": "2022-03-30T13:51:42.583Z"
   },
   {
    "duration": 147,
    "start_time": "2022-03-30T13:51:44.842Z"
   },
   {
    "duration": 10,
    "start_time": "2022-03-30T13:51:48.574Z"
   },
   {
    "duration": 1619,
    "start_time": "2022-03-30T13:51:50.337Z"
   },
   {
    "duration": 31,
    "start_time": "2022-03-30T13:51:51.959Z"
   },
   {
    "duration": 11,
    "start_time": "2022-03-30T13:51:53.823Z"
   },
   {
    "duration": 6,
    "start_time": "2022-03-30T13:51:57.027Z"
   },
   {
    "duration": 16,
    "start_time": "2022-03-30T13:51:59.608Z"
   },
   {
    "duration": 11,
    "start_time": "2022-03-30T13:52:11.575Z"
   },
   {
    "duration": 15,
    "start_time": "2022-03-30T13:52:31.776Z"
   },
   {
    "duration": 15,
    "start_time": "2022-03-30T13:52:42.405Z"
   },
   {
    "duration": 158,
    "start_time": "2022-03-30T13:53:24.336Z"
   },
   {
    "duration": 23,
    "start_time": "2022-03-30T13:53:43.560Z"
   },
   {
    "duration": 18,
    "start_time": "2022-03-30T13:54:38.139Z"
   },
   {
    "duration": 24,
    "start_time": "2022-03-30T13:57:02.254Z"
   },
   {
    "duration": 40,
    "start_time": "2022-03-30T13:57:11.650Z"
   },
   {
    "duration": 19,
    "start_time": "2022-03-30T13:59:04.052Z"
   },
   {
    "duration": 20,
    "start_time": "2022-03-30T13:59:57.259Z"
   },
   {
    "duration": 20,
    "start_time": "2022-03-30T14:00:03.493Z"
   },
   {
    "duration": 22,
    "start_time": "2022-03-30T14:01:54.387Z"
   },
   {
    "duration": 150,
    "start_time": "2022-03-30T14:02:10.433Z"
   },
   {
    "duration": 6,
    "start_time": "2022-03-30T14:02:21.423Z"
   },
   {
    "duration": 20,
    "start_time": "2022-03-30T14:02:25.627Z"
   },
   {
    "duration": 20,
    "start_time": "2022-03-30T14:02:34.911Z"
   },
   {
    "duration": 21,
    "start_time": "2022-03-30T14:04:56.522Z"
   },
   {
    "duration": 19,
    "start_time": "2022-03-30T14:05:40.598Z"
   },
   {
    "duration": 18,
    "start_time": "2022-03-30T14:06:33.220Z"
   },
   {
    "duration": 33,
    "start_time": "2022-03-30T14:08:21.409Z"
   },
   {
    "duration": 31,
    "start_time": "2022-03-30T14:08:29.957Z"
   },
   {
    "duration": 31,
    "start_time": "2022-03-30T14:09:20.809Z"
   },
   {
    "duration": 31,
    "start_time": "2022-03-30T14:09:43.926Z"
   },
   {
    "duration": 31,
    "start_time": "2022-03-30T14:10:19.641Z"
   },
   {
    "duration": 32,
    "start_time": "2022-03-30T14:10:26.141Z"
   },
   {
    "duration": 33,
    "start_time": "2022-03-30T14:10:37.211Z"
   },
   {
    "duration": 34,
    "start_time": "2022-03-30T14:10:44.312Z"
   },
   {
    "duration": 33,
    "start_time": "2022-03-30T14:11:06.179Z"
   },
   {
    "duration": 5,
    "start_time": "2022-03-30T14:29:28.107Z"
   },
   {
    "duration": 46,
    "start_time": "2022-03-30T14:29:30.531Z"
   },
   {
    "duration": 1935,
    "start_time": "2022-03-30T14:33:22.318Z"
   },
   {
    "duration": 8,
    "start_time": "2022-03-30T14:33:24.255Z"
   },
   {
    "duration": 444,
    "start_time": "2022-03-30T14:33:24.265Z"
   },
   {
    "duration": 129,
    "start_time": "2022-03-30T14:33:24.712Z"
   },
   {
    "duration": 1424,
    "start_time": "2022-03-30T14:33:24.847Z"
   },
   {
    "duration": 2129,
    "start_time": "2022-03-30T14:33:26.273Z"
   },
   {
    "duration": 25,
    "start_time": "2022-03-30T14:33:28.404Z"
   },
   {
    "duration": 83,
    "start_time": "2022-03-30T14:33:28.431Z"
   },
   {
    "duration": 2469,
    "start_time": "2022-03-30T14:33:28.516Z"
   },
   {
    "duration": 96,
    "start_time": "2022-03-30T14:33:30.988Z"
   },
   {
    "duration": 304,
    "start_time": "2022-03-30T14:33:31.087Z"
   },
   {
    "duration": 97,
    "start_time": "2022-03-30T14:33:31.487Z"
   },
   {
    "duration": 1572,
    "start_time": "2022-03-30T14:33:31.587Z"
   },
   {
    "duration": 30,
    "start_time": "2022-03-30T14:33:33.161Z"
   },
   {
    "duration": 185,
    "start_time": "2022-03-30T14:33:33.193Z"
   },
   {
    "duration": 0,
    "start_time": "2022-03-30T14:33:33.383Z"
   },
   {
    "duration": 0,
    "start_time": "2022-03-30T14:33:33.385Z"
   },
   {
    "duration": 10,
    "start_time": "2022-03-30T14:33:53.011Z"
   },
   {
    "duration": 22,
    "start_time": "2022-03-30T14:34:08.764Z"
   },
   {
    "duration": 6,
    "start_time": "2022-03-30T14:34:10.715Z"
   },
   {
    "duration": 35,
    "start_time": "2022-03-30T14:34:11.859Z"
   },
   {
    "duration": 5,
    "start_time": "2022-03-30T14:35:01.928Z"
   },
   {
    "duration": 32,
    "start_time": "2022-03-30T14:35:04.383Z"
   },
   {
    "duration": 5,
    "start_time": "2022-03-30T14:58:24.375Z"
   },
   {
    "duration": 35,
    "start_time": "2022-03-30T14:58:27.122Z"
   },
   {
    "duration": 5,
    "start_time": "2022-03-30T15:01:15.575Z"
   },
   {
    "duration": 20,
    "start_time": "2022-03-30T15:01:18.241Z"
   },
   {
    "duration": 21,
    "start_time": "2022-03-30T15:02:19.551Z"
   },
   {
    "duration": 20,
    "start_time": "2022-03-30T15:02:48.226Z"
   },
   {
    "duration": 5,
    "start_time": "2022-03-30T15:03:03.178Z"
   },
   {
    "duration": 19,
    "start_time": "2022-03-30T15:03:04.133Z"
   },
   {
    "duration": 32,
    "start_time": "2022-03-30T15:03:29.533Z"
   },
   {
    "duration": 34,
    "start_time": "2022-03-30T15:04:33.097Z"
   },
   {
    "duration": 34,
    "start_time": "2022-03-30T15:04:47.006Z"
   },
   {
    "duration": 34,
    "start_time": "2022-03-30T15:05:02.900Z"
   },
   {
    "duration": 34,
    "start_time": "2022-03-30T15:05:18.198Z"
   },
   {
    "duration": 2502,
    "start_time": "2022-03-30T18:15:54.077Z"
   },
   {
    "duration": 8,
    "start_time": "2022-03-30T18:15:56.582Z"
   },
   {
    "duration": 460,
    "start_time": "2022-03-30T18:15:56.592Z"
   },
   {
    "duration": 123,
    "start_time": "2022-03-30T18:15:57.054Z"
   },
   {
    "duration": 1439,
    "start_time": "2022-03-30T18:15:57.180Z"
   },
   {
    "duration": 2388,
    "start_time": "2022-03-30T18:15:58.620Z"
   },
   {
    "duration": 39,
    "start_time": "2022-03-30T18:16:01.010Z"
   },
   {
    "duration": 59,
    "start_time": "2022-03-30T18:16:01.051Z"
   },
   {
    "duration": 2535,
    "start_time": "2022-03-30T18:16:01.112Z"
   },
   {
    "duration": 7,
    "start_time": "2022-03-30T18:16:03.649Z"
   },
   {
    "duration": 305,
    "start_time": "2022-03-30T18:16:03.743Z"
   },
   {
    "duration": 192,
    "start_time": "2022-03-30T18:16:04.051Z"
   },
   {
    "duration": 2059,
    "start_time": "2022-03-30T18:16:04.245Z"
   },
   {
    "duration": 45,
    "start_time": "2022-03-30T18:16:06.309Z"
   },
   {
    "duration": 13,
    "start_time": "2022-03-30T18:16:06.357Z"
   },
   {
    "duration": 30,
    "start_time": "2022-03-30T18:16:06.373Z"
   },
   {
    "duration": 9,
    "start_time": "2022-03-30T18:16:06.444Z"
   },
   {
    "duration": 345,
    "start_time": "2022-03-30T18:16:06.456Z"
   },
   {
    "duration": 6,
    "start_time": "2022-03-30T18:18:38.710Z"
   },
   {
    "duration": 224,
    "start_time": "2022-03-30T18:18:55.370Z"
   },
   {
    "duration": 544,
    "start_time": "2022-03-30T18:19:14.429Z"
   },
   {
    "duration": 2282,
    "start_time": "2022-03-30T18:19:33.123Z"
   },
   {
    "duration": 2153,
    "start_time": "2022-03-30T18:19:48.039Z"
   },
   {
    "duration": 984,
    "start_time": "2022-03-30T18:20:07.896Z"
   },
   {
    "duration": 1687,
    "start_time": "2022-03-30T18:20:27.030Z"
   },
   {
    "duration": 2091,
    "start_time": "2022-03-30T18:22:56.015Z"
   },
   {
    "duration": 1526,
    "start_time": "2022-03-30T18:23:33.790Z"
   },
   {
    "duration": 2425,
    "start_time": "2022-03-30T18:24:35.842Z"
   },
   {
    "duration": 345,
    "start_time": "2022-03-30T18:29:53.123Z"
   },
   {
    "duration": 1661,
    "start_time": "2022-03-30T18:30:14.174Z"
   },
   {
    "duration": 2201,
    "start_time": "2022-03-30T18:31:50.397Z"
   },
   {
    "duration": 1777,
    "start_time": "2022-03-30T18:32:06.041Z"
   },
   {
    "duration": 1639,
    "start_time": "2022-03-30T18:33:32.235Z"
   },
   {
    "duration": 2407,
    "start_time": "2022-03-30T18:48:22.899Z"
   },
   {
    "duration": 9,
    "start_time": "2022-03-30T18:48:25.309Z"
   },
   {
    "duration": 475,
    "start_time": "2022-03-30T18:48:25.320Z"
   },
   {
    "duration": 134,
    "start_time": "2022-03-30T18:48:25.798Z"
   },
   {
    "duration": 1494,
    "start_time": "2022-03-30T18:48:25.936Z"
   },
   {
    "duration": 2399,
    "start_time": "2022-03-30T18:48:27.432Z"
   },
   {
    "duration": 51,
    "start_time": "2022-03-30T18:48:29.833Z"
   },
   {
    "duration": 64,
    "start_time": "2022-03-30T18:48:29.887Z"
   },
   {
    "duration": 2523,
    "start_time": "2022-03-30T18:48:29.953Z"
   },
   {
    "duration": 96,
    "start_time": "2022-03-30T18:48:32.480Z"
   },
   {
    "duration": 204,
    "start_time": "2022-03-30T18:48:32.578Z"
   },
   {
    "duration": 194,
    "start_time": "2022-03-30T18:48:32.785Z"
   },
   {
    "duration": 1665,
    "start_time": "2022-03-30T18:48:32.982Z"
   },
   {
    "duration": 29,
    "start_time": "2022-03-30T18:48:34.651Z"
   },
   {
    "duration": 11,
    "start_time": "2022-03-30T18:48:34.683Z"
   },
   {
    "duration": 26,
    "start_time": "2022-03-30T18:48:34.696Z"
   },
   {
    "duration": 51,
    "start_time": "2022-03-30T18:48:34.724Z"
   },
   {
    "duration": 151,
    "start_time": "2022-03-30T18:48:34.777Z"
   },
   {
    "duration": 0,
    "start_time": "2022-03-30T18:48:34.930Z"
   },
   {
    "duration": 10,
    "start_time": "2022-03-30T18:48:40.777Z"
   },
   {
    "duration": 4868,
    "start_time": "2022-03-30T18:48:42.275Z"
   },
   {
    "duration": 4890,
    "start_time": "2022-03-30T18:49:11.535Z"
   },
   {
    "duration": 4915,
    "start_time": "2022-03-30T18:50:30.335Z"
   },
   {
    "duration": 4886,
    "start_time": "2022-03-30T18:51:18.592Z"
   },
   {
    "duration": 4863,
    "start_time": "2022-03-30T18:51:39.602Z"
   },
   {
    "duration": 4836,
    "start_time": "2022-03-30T18:51:52.816Z"
   },
   {
    "duration": 120,
    "start_time": "2022-03-30T18:57:53.608Z"
   },
   {
    "duration": 10,
    "start_time": "2022-03-30T18:58:12.307Z"
   },
   {
    "duration": 9,
    "start_time": "2022-03-30T18:58:25.481Z"
   },
   {
    "duration": 4808,
    "start_time": "2022-03-30T18:58:25.691Z"
   },
   {
    "duration": 7,
    "start_time": "2022-03-30T19:07:44.182Z"
   },
   {
    "duration": 1693,
    "start_time": "2022-03-30T19:07:47.632Z"
   },
   {
    "duration": 7,
    "start_time": "2022-03-30T19:08:41.648Z"
   },
   {
    "duration": 8,
    "start_time": "2022-03-30T19:08:53.519Z"
   },
   {
    "duration": 4884,
    "start_time": "2022-03-30T19:08:53.999Z"
   },
   {
    "duration": 8,
    "start_time": "2022-03-30T19:09:19.225Z"
   },
   {
    "duration": 1646,
    "start_time": "2022-03-30T19:09:21.906Z"
   },
   {
    "duration": 9,
    "start_time": "2022-03-30T19:09:35.819Z"
   },
   {
    "duration": 5022,
    "start_time": "2022-03-30T19:09:37.495Z"
   },
   {
    "duration": 8,
    "start_time": "2022-03-30T19:10:28.920Z"
   },
   {
    "duration": 4963,
    "start_time": "2022-03-30T19:10:30.235Z"
   },
   {
    "duration": 8,
    "start_time": "2022-03-30T19:43:04.803Z"
   },
   {
    "duration": 4906,
    "start_time": "2022-03-30T19:43:07.369Z"
   },
   {
    "duration": 7,
    "start_time": "2022-03-30T19:45:21.133Z"
   },
   {
    "duration": 8,
    "start_time": "2022-03-30T19:46:14.103Z"
   },
   {
    "duration": 8,
    "start_time": "2022-03-30T19:46:55.951Z"
   },
   {
    "duration": 93,
    "start_time": "2022-03-30T19:47:00.554Z"
   },
   {
    "duration": 7,
    "start_time": "2022-03-30T19:47:28.866Z"
   },
   {
    "duration": 1621,
    "start_time": "2022-03-30T19:47:31.347Z"
   },
   {
    "duration": 8,
    "start_time": "2022-03-30T19:48:16.196Z"
   },
   {
    "duration": 1658,
    "start_time": "2022-03-30T19:48:19.284Z"
   },
   {
    "duration": 8,
    "start_time": "2022-03-30T19:48:32.740Z"
   },
   {
    "duration": 5101,
    "start_time": "2022-03-30T19:48:34.587Z"
   },
   {
    "duration": 8,
    "start_time": "2022-03-30T19:49:06.480Z"
   },
   {
    "duration": 4961,
    "start_time": "2022-03-30T19:49:08.778Z"
   },
   {
    "duration": 9,
    "start_time": "2022-03-30T19:49:48.689Z"
   },
   {
    "duration": 4804,
    "start_time": "2022-03-30T19:49:49.653Z"
   },
   {
    "duration": 8,
    "start_time": "2022-03-30T19:50:28.244Z"
   },
   {
    "duration": 4750,
    "start_time": "2022-03-30T19:50:31.866Z"
   },
   {
    "duration": 4936,
    "start_time": "2022-03-30T19:50:44.924Z"
   },
   {
    "duration": 7,
    "start_time": "2022-03-30T19:54:17.783Z"
   },
   {
    "duration": 7,
    "start_time": "2022-03-30T19:54:23.858Z"
   },
   {
    "duration": 1620,
    "start_time": "2022-03-30T19:54:25.481Z"
   },
   {
    "duration": 8,
    "start_time": "2022-03-30T19:54:35.266Z"
   },
   {
    "duration": 4856,
    "start_time": "2022-03-30T19:54:35.809Z"
   },
   {
    "duration": 14683,
    "start_time": "2022-03-30T20:09:18.264Z"
   },
   {
    "duration": 29,
    "start_time": "2022-03-30T20:10:57.708Z"
   },
   {
    "duration": 13513,
    "start_time": "2022-03-30T20:11:30.394Z"
   },
   {
    "duration": 8,
    "start_time": "2022-03-30T20:12:39.614Z"
   },
   {
    "duration": 1954,
    "start_time": "2022-03-30T20:12:47.770Z"
   },
   {
    "duration": 9,
    "start_time": "2022-03-30T20:12:49.726Z"
   },
   {
    "duration": 1971,
    "start_time": "2022-03-30T20:12:56.440Z"
   },
   {
    "duration": 8,
    "start_time": "2022-03-30T20:12:58.413Z"
   },
   {
    "duration": 493,
    "start_time": "2022-03-30T20:12:58.423Z"
   },
   {
    "duration": 136,
    "start_time": "2022-03-30T20:12:58.919Z"
   },
   {
    "duration": 1476,
    "start_time": "2022-03-30T20:12:59.057Z"
   },
   {
    "duration": 2397,
    "start_time": "2022-03-30T20:13:00.535Z"
   },
   {
    "duration": 43,
    "start_time": "2022-03-30T20:13:02.934Z"
   },
   {
    "duration": 56,
    "start_time": "2022-03-30T20:13:02.979Z"
   },
   {
    "duration": 2339,
    "start_time": "2022-03-30T20:13:03.037Z"
   },
   {
    "duration": 15142,
    "start_time": "2022-03-30T20:13:05.380Z"
   },
   {
    "duration": 252,
    "start_time": "2022-03-30T20:13:20.525Z"
   },
   {
    "duration": 95,
    "start_time": "2022-03-30T20:13:20.780Z"
   },
   {
    "duration": 1730,
    "start_time": "2022-03-30T20:13:20.878Z"
   },
   {
    "duration": 17,
    "start_time": "2022-03-30T20:13:22.610Z"
   },
   {
    "duration": 10,
    "start_time": "2022-03-30T20:13:22.630Z"
   },
   {
    "duration": 30,
    "start_time": "2022-03-30T20:13:22.675Z"
   },
   {
    "duration": 8,
    "start_time": "2022-03-30T20:13:22.708Z"
   },
   {
    "duration": 389,
    "start_time": "2022-03-30T20:13:22.718Z"
   },
   {
    "duration": 0,
    "start_time": "2022-03-30T20:13:23.110Z"
   },
   {
    "duration": 0,
    "start_time": "2022-03-30T20:13:23.113Z"
   },
   {
    "duration": 41,
    "start_time": "2022-03-30T20:13:40.240Z"
   },
   {
    "duration": 11,
    "start_time": "2022-03-30T20:13:41.518Z"
   },
   {
    "duration": 7395,
    "start_time": "2022-03-30T20:13:41.704Z"
   },
   {
    "duration": 2101,
    "start_time": "2022-03-30T20:14:51.000Z"
   },
   {
    "duration": 10,
    "start_time": "2022-03-30T20:14:53.104Z"
   },
   {
    "duration": 504,
    "start_time": "2022-03-30T20:14:53.117Z"
   },
   {
    "duration": 168,
    "start_time": "2022-03-30T20:14:53.624Z"
   },
   {
    "duration": 1488,
    "start_time": "2022-03-30T20:14:53.795Z"
   },
   {
    "duration": 2297,
    "start_time": "2022-03-30T20:14:55.286Z"
   },
   {
    "duration": 28,
    "start_time": "2022-03-30T20:14:57.585Z"
   },
   {
    "duration": 92,
    "start_time": "2022-03-30T20:14:57.615Z"
   },
   {
    "duration": 2175,
    "start_time": "2022-03-30T20:14:57.709Z"
   },
   {
    "duration": 17828,
    "start_time": "2022-03-30T20:14:59.888Z"
   },
   {
    "duration": 455,
    "start_time": "2022-03-30T20:15:17.719Z"
   },
   {
    "duration": 98,
    "start_time": "2022-03-30T20:15:18.177Z"
   },
   {
    "duration": 1518,
    "start_time": "2022-03-30T20:15:18.279Z"
   },
   {
    "duration": 17,
    "start_time": "2022-03-30T20:15:19.799Z"
   },
   {
    "duration": 31,
    "start_time": "2022-03-30T20:15:19.819Z"
   },
   {
    "duration": 53,
    "start_time": "2022-03-30T20:15:19.853Z"
   },
   {
    "duration": 34,
    "start_time": "2022-03-30T20:15:19.908Z"
   },
   {
    "duration": 61,
    "start_time": "2022-03-30T20:15:19.944Z"
   },
   {
    "duration": 21,
    "start_time": "2022-03-30T20:15:20.008Z"
   },
   {
    "duration": 5589,
    "start_time": "2022-03-30T20:15:20.032Z"
   },
   {
    "duration": 2265,
    "start_time": "2022-03-30T20:20:09.053Z"
   },
   {
    "duration": 12,
    "start_time": "2022-03-30T20:20:11.322Z"
   },
   {
    "duration": 816,
    "start_time": "2022-03-30T20:20:11.337Z"
   },
   {
    "duration": 139,
    "start_time": "2022-03-30T20:20:12.156Z"
   },
   {
    "duration": 2326,
    "start_time": "2022-03-30T20:20:12.297Z"
   },
   {
    "duration": 3444,
    "start_time": "2022-03-30T20:20:14.627Z"
   },
   {
    "duration": 32,
    "start_time": "2022-03-30T20:20:18.074Z"
   },
   {
    "duration": 95,
    "start_time": "2022-03-30T20:20:18.110Z"
   },
   {
    "duration": 2281,
    "start_time": "2022-03-30T20:20:18.208Z"
   },
   {
    "duration": 10797,
    "start_time": "2022-03-30T20:20:20.493Z"
   },
   {
    "duration": 185,
    "start_time": "2022-03-30T20:20:31.292Z"
   },
   {
    "duration": 94,
    "start_time": "2022-03-30T20:20:31.480Z"
   },
   {
    "duration": 1532,
    "start_time": "2022-03-30T20:20:31.577Z"
   },
   {
    "duration": 23,
    "start_time": "2022-03-30T20:20:33.112Z"
   },
   {
    "duration": 10,
    "start_time": "2022-03-30T20:20:33.174Z"
   },
   {
    "duration": 22,
    "start_time": "2022-03-30T20:20:33.187Z"
   },
   {
    "duration": 6,
    "start_time": "2022-03-30T20:20:33.212Z"
   },
   {
    "duration": 83,
    "start_time": "2022-03-30T20:20:33.220Z"
   },
   {
    "duration": 7,
    "start_time": "2022-03-30T20:20:33.305Z"
   },
   {
    "duration": 5113,
    "start_time": "2022-03-30T20:20:33.314Z"
   },
   {
    "duration": 2212,
    "start_time": "2022-04-01T13:22:05.255Z"
   },
   {
    "duration": 8,
    "start_time": "2022-04-01T13:22:07.470Z"
   },
   {
    "duration": 460,
    "start_time": "2022-04-01T13:22:07.481Z"
   },
   {
    "duration": 128,
    "start_time": "2022-04-01T13:22:07.945Z"
   },
   {
    "duration": 1377,
    "start_time": "2022-04-01T13:22:08.076Z"
   },
   {
    "duration": 2128,
    "start_time": "2022-04-01T13:22:09.456Z"
   },
   {
    "duration": 32,
    "start_time": "2022-04-01T13:22:11.587Z"
   },
   {
    "duration": 78,
    "start_time": "2022-04-01T13:22:11.621Z"
   },
   {
    "duration": 1888,
    "start_time": "2022-04-01T13:22:11.701Z"
   },
   {
    "duration": 11873,
    "start_time": "2022-04-01T13:22:13.601Z"
   },
   {
    "duration": 216,
    "start_time": "2022-04-01T13:22:25.476Z"
   },
   {
    "duration": 96,
    "start_time": "2022-04-01T13:22:25.695Z"
   },
   {
    "duration": 1507,
    "start_time": "2022-04-01T13:22:25.794Z"
   },
   {
    "duration": 18,
    "start_time": "2022-04-01T13:22:27.303Z"
   },
   {
    "duration": 11,
    "start_time": "2022-04-01T13:22:27.323Z"
   },
   {
    "duration": 60,
    "start_time": "2022-04-01T13:22:27.336Z"
   },
   {
    "duration": 6,
    "start_time": "2022-04-01T13:22:27.399Z"
   },
   {
    "duration": 204,
    "start_time": "2022-04-01T13:22:27.408Z"
   },
   {
    "duration": 0,
    "start_time": "2022-04-01T13:22:27.615Z"
   },
   {
    "duration": 0,
    "start_time": "2022-04-01T13:22:27.617Z"
   },
   {
    "duration": 36,
    "start_time": "2022-04-01T13:24:38.709Z"
   },
   {
    "duration": 8,
    "start_time": "2022-04-01T13:25:43.443Z"
   },
   {
    "duration": 1867,
    "start_time": "2022-04-01T13:27:28.165Z"
   },
   {
    "duration": 8,
    "start_time": "2022-04-01T13:27:30.035Z"
   },
   {
    "duration": 443,
    "start_time": "2022-04-01T13:27:30.045Z"
   },
   {
    "duration": 114,
    "start_time": "2022-04-01T13:27:30.491Z"
   },
   {
    "duration": 1394,
    "start_time": "2022-04-01T13:27:30.608Z"
   },
   {
    "duration": 2118,
    "start_time": "2022-04-01T13:27:32.004Z"
   },
   {
    "duration": 25,
    "start_time": "2022-04-01T13:27:34.124Z"
   },
   {
    "duration": 76,
    "start_time": "2022-04-01T13:27:34.151Z"
   },
   {
    "duration": 1654,
    "start_time": "2022-04-01T13:27:34.230Z"
   },
   {
    "duration": 11879,
    "start_time": "2022-04-01T13:27:35.889Z"
   },
   {
    "duration": 214,
    "start_time": "2022-04-01T13:27:47.771Z"
   },
   {
    "duration": 114,
    "start_time": "2022-04-01T13:27:47.987Z"
   },
   {
    "duration": 1505,
    "start_time": "2022-04-01T13:27:48.105Z"
   },
   {
    "duration": 20,
    "start_time": "2022-04-01T13:27:49.612Z"
   },
   {
    "duration": 10,
    "start_time": "2022-04-01T13:27:49.635Z"
   },
   {
    "duration": 52,
    "start_time": "2022-04-01T13:27:49.647Z"
   },
   {
    "duration": 6,
    "start_time": "2022-04-01T13:27:49.701Z"
   },
   {
    "duration": 41,
    "start_time": "2022-04-01T13:27:49.709Z"
   },
   {
    "duration": 41,
    "start_time": "2022-04-01T13:27:49.752Z"
   },
   {
    "duration": 9905,
    "start_time": "2022-04-01T13:27:49.796Z"
   },
   {
    "duration": 5,
    "start_time": "2022-04-01T13:52:02.937Z"
   },
   {
    "duration": 5,
    "start_time": "2022-04-01T13:53:37.832Z"
   },
   {
    "duration": 32,
    "start_time": "2022-04-01T13:53:40.746Z"
   },
   {
    "duration": 9,
    "start_time": "2022-04-01T13:53:46.484Z"
   },
   {
    "duration": 6872,
    "start_time": "2022-04-01T13:53:50.359Z"
   },
   {
    "duration": 7,
    "start_time": "2022-04-01T13:54:37.000Z"
   },
   {
    "duration": 8995,
    "start_time": "2022-04-01T13:54:40.163Z"
   },
   {
    "duration": 6,
    "start_time": "2022-04-01T13:57:01.428Z"
   },
   {
    "duration": 34,
    "start_time": "2022-04-01T13:57:04.542Z"
   },
   {
    "duration": 7,
    "start_time": "2022-04-01T13:57:05.247Z"
   },
   {
    "duration": 6443,
    "start_time": "2022-04-01T13:57:06.147Z"
   },
   {
    "duration": 5,
    "start_time": "2022-04-01T13:57:49.217Z"
   },
   {
    "duration": 47,
    "start_time": "2022-04-01T13:57:50.774Z"
   },
   {
    "duration": 7,
    "start_time": "2022-04-01T13:58:33.880Z"
   },
   {
    "duration": 43,
    "start_time": "2022-04-01T13:58:36.773Z"
   },
   {
    "duration": 7,
    "start_time": "2022-04-01T13:58:49.644Z"
   },
   {
    "duration": 12062,
    "start_time": "2022-04-01T13:58:50.363Z"
   },
   {
    "duration": 6,
    "start_time": "2022-04-01T14:00:34.901Z"
   },
   {
    "duration": 44,
    "start_time": "2022-04-01T14:00:36.055Z"
   },
   {
    "duration": 7,
    "start_time": "2022-04-01T14:00:50.715Z"
   },
   {
    "duration": 40,
    "start_time": "2022-04-01T14:00:51.896Z"
   },
   {
    "duration": 7,
    "start_time": "2022-04-01T14:01:00.795Z"
   },
   {
    "duration": 11262,
    "start_time": "2022-04-01T14:01:01.568Z"
   },
   {
    "duration": 7,
    "start_time": "2022-04-01T14:10:53.132Z"
   },
   {
    "duration": 13592,
    "start_time": "2022-04-01T14:10:54.201Z"
   },
   {
    "duration": 8,
    "start_time": "2022-04-01T14:11:21.350Z"
   },
   {
    "duration": 8,
    "start_time": "2022-04-01T14:12:45.198Z"
   },
   {
    "duration": 15506,
    "start_time": "2022-04-01T14:12:47.017Z"
   },
   {
    "duration": 165,
    "start_time": "2022-04-01T14:17:05.752Z"
   },
   {
    "duration": 8,
    "start_time": "2022-04-01T14:17:22.645Z"
   },
   {
    "duration": 13229,
    "start_time": "2022-04-01T14:17:22.996Z"
   },
   {
    "duration": 8,
    "start_time": "2022-04-01T14:19:12.076Z"
   },
   {
    "duration": 8,
    "start_time": "2022-04-01T14:19:26.517Z"
   },
   {
    "duration": 12713,
    "start_time": "2022-04-01T14:19:26.527Z"
   },
   {
    "duration": 8,
    "start_time": "2022-04-01T14:19:41.898Z"
   },
   {
    "duration": 15798,
    "start_time": "2022-04-01T14:19:43.758Z"
   },
   {
    "duration": 7,
    "start_time": "2022-04-01T14:21:16.118Z"
   },
   {
    "duration": 16799,
    "start_time": "2022-04-01T14:21:16.650Z"
   },
   {
    "duration": 14,
    "start_time": "2022-04-01T14:21:54.474Z"
   },
   {
    "duration": 17876,
    "start_time": "2022-04-01T14:21:55.270Z"
   },
   {
    "duration": 7,
    "start_time": "2022-04-01T14:29:20.559Z"
   },
   {
    "duration": 11270,
    "start_time": "2022-04-01T14:29:28.344Z"
   },
   {
    "duration": 7,
    "start_time": "2022-04-01T14:32:42.532Z"
   },
   {
    "duration": 174,
    "start_time": "2022-04-01T14:32:45.464Z"
   },
   {
    "duration": 10,
    "start_time": "2022-04-01T14:34:54.181Z"
   },
   {
    "duration": 32,
    "start_time": "2022-04-01T14:34:55.649Z"
   },
   {
    "duration": 9,
    "start_time": "2022-04-01T14:50:50.487Z"
   },
   {
    "duration": 77,
    "start_time": "2022-04-01T14:50:51.447Z"
   },
   {
    "duration": 7,
    "start_time": "2022-04-01T14:50:54.208Z"
   },
   {
    "duration": 19839,
    "start_time": "2022-04-01T14:50:55.128Z"
   },
   {
    "duration": 7,
    "start_time": "2022-04-01T14:52:13.243Z"
   },
   {
    "duration": 71,
    "start_time": "2022-04-01T14:52:15.535Z"
   },
   {
    "duration": 7,
    "start_time": "2022-04-01T14:53:14.771Z"
   },
   {
    "duration": 37,
    "start_time": "2022-04-01T14:53:16.296Z"
   },
   {
    "duration": 8,
    "start_time": "2022-04-01T14:53:36.740Z"
   },
   {
    "duration": 7954,
    "start_time": "2022-04-01T14:53:37.342Z"
   },
   {
    "duration": 8,
    "start_time": "2022-04-01T14:54:14.284Z"
   },
   {
    "duration": 44,
    "start_time": "2022-04-01T14:54:14.859Z"
   },
   {
    "duration": 8,
    "start_time": "2022-04-01T14:54:21.021Z"
   },
   {
    "duration": 11171,
    "start_time": "2022-04-01T14:54:21.543Z"
   },
   {
    "duration": 12,
    "start_time": "2022-04-01T14:55:05.582Z"
   },
   {
    "duration": 60,
    "start_time": "2022-04-01T14:55:05.597Z"
   },
   {
    "duration": 12,
    "start_time": "2022-04-01T14:55:05.691Z"
   },
   {
    "duration": 11325,
    "start_time": "2022-04-01T14:55:06.176Z"
   },
   {
    "duration": 223,
    "start_time": "2022-04-01T15:07:36.777Z"
   },
   {
    "duration": 7,
    "start_time": "2022-04-01T15:07:45.730Z"
   },
   {
    "duration": 77,
    "start_time": "2022-04-01T15:07:47.753Z"
   },
   {
    "duration": 10,
    "start_time": "2022-04-01T15:08:44.696Z"
   },
   {
    "duration": 49,
    "start_time": "2022-04-01T15:08:46.365Z"
   },
   {
    "duration": 12,
    "start_time": "2022-04-01T15:08:52.078Z"
   },
   {
    "duration": 9677,
    "start_time": "2022-04-01T15:08:52.858Z"
   },
   {
    "duration": 7,
    "start_time": "2022-04-01T15:13:07.724Z"
   },
   {
    "duration": 74,
    "start_time": "2022-04-01T15:13:08.434Z"
   },
   {
    "duration": 6,
    "start_time": "2022-04-01T15:13:17.233Z"
   },
   {
    "duration": 71,
    "start_time": "2022-04-01T15:13:19.237Z"
   },
   {
    "duration": 8,
    "start_time": "2022-04-01T15:13:21.162Z"
   },
   {
    "duration": 13261,
    "start_time": "2022-04-01T15:13:21.928Z"
   },
   {
    "duration": 6,
    "start_time": "2022-04-01T15:13:38.228Z"
   },
   {
    "duration": 61,
    "start_time": "2022-04-01T15:13:39.491Z"
   },
   {
    "duration": 7,
    "start_time": "2022-04-01T15:13:42.554Z"
   },
   {
    "duration": 9803,
    "start_time": "2022-04-01T15:13:42.820Z"
   },
   {
    "duration": 6,
    "start_time": "2022-04-01T15:22:04.196Z"
   },
   {
    "duration": 28,
    "start_time": "2022-04-01T15:22:06.058Z"
   },
   {
    "duration": 7,
    "start_time": "2022-04-01T15:23:04.142Z"
   },
   {
    "duration": 30,
    "start_time": "2022-04-01T15:23:05.579Z"
   },
   {
    "duration": 6,
    "start_time": "2022-04-01T15:24:29.196Z"
   },
   {
    "duration": 80,
    "start_time": "2022-04-01T15:24:30.449Z"
   },
   {
    "duration": 7,
    "start_time": "2022-04-01T15:24:34.696Z"
   },
   {
    "duration": 15239,
    "start_time": "2022-04-01T15:24:35.308Z"
   },
   {
    "duration": 159,
    "start_time": "2022-04-01T15:28:57.911Z"
   },
   {
    "duration": 6,
    "start_time": "2022-04-01T15:29:25.596Z"
   },
   {
    "duration": 85,
    "start_time": "2022-04-01T15:29:27.134Z"
   },
   {
    "duration": 8,
    "start_time": "2022-04-01T15:29:30.201Z"
   },
   {
    "duration": 20519,
    "start_time": "2022-04-01T15:29:30.927Z"
   },
   {
    "duration": 6,
    "start_time": "2022-04-01T15:31:00.411Z"
   },
   {
    "duration": 45,
    "start_time": "2022-04-01T15:31:02.054Z"
   },
   {
    "duration": 8,
    "start_time": "2022-04-01T15:31:04.007Z"
   },
   {
    "duration": 5442,
    "start_time": "2022-04-01T15:31:04.017Z"
   },
   {
    "duration": 2518,
    "start_time": "2022-04-02T09:05:56.540Z"
   },
   {
    "duration": 9,
    "start_time": "2022-04-02T09:05:59.062Z"
   },
   {
    "duration": 475,
    "start_time": "2022-04-02T09:05:59.074Z"
   },
   {
    "duration": 129,
    "start_time": "2022-04-02T09:05:59.552Z"
   },
   {
    "duration": 1417,
    "start_time": "2022-04-02T09:05:59.685Z"
   },
   {
    "duration": 2242,
    "start_time": "2022-04-02T09:06:01.104Z"
   },
   {
    "duration": 26,
    "start_time": "2022-04-02T09:06:03.349Z"
   },
   {
    "duration": 88,
    "start_time": "2022-04-02T09:06:03.378Z"
   },
   {
    "duration": 2375,
    "start_time": "2022-04-02T09:06:03.468Z"
   },
   {
    "duration": 16688,
    "start_time": "2022-04-02T09:06:05.846Z"
   },
   {
    "duration": 219,
    "start_time": "2022-04-02T09:06:22.536Z"
   },
   {
    "duration": 89,
    "start_time": "2022-04-02T09:06:22.757Z"
   },
   {
    "duration": 1552,
    "start_time": "2022-04-02T09:06:22.849Z"
   },
   {
    "duration": 17,
    "start_time": "2022-04-02T09:06:24.406Z"
   },
   {
    "duration": 11,
    "start_time": "2022-04-02T09:06:24.442Z"
   },
   {
    "duration": 30,
    "start_time": "2022-04-02T09:06:24.456Z"
   },
   {
    "duration": 12,
    "start_time": "2022-04-02T09:06:24.488Z"
   },
   {
    "duration": 75,
    "start_time": "2022-04-02T09:06:24.502Z"
   },
   {
    "duration": 7,
    "start_time": "2022-04-02T09:06:24.580Z"
   },
   {
    "duration": 5518,
    "start_time": "2022-04-02T09:06:24.589Z"
   },
   {
    "duration": 9,
    "start_time": "2022-04-02T09:07:00.719Z"
   },
   {
    "duration": 83,
    "start_time": "2022-04-02T09:07:02.737Z"
   },
   {
    "duration": 7,
    "start_time": "2022-04-02T09:07:08.676Z"
   },
   {
    "duration": 20741,
    "start_time": "2022-04-02T09:07:09.559Z"
   },
   {
    "duration": 11574,
    "start_time": "2022-04-02T09:31:51.705Z"
   },
   {
    "duration": 7,
    "start_time": "2022-04-02T09:32:16.940Z"
   },
   {
    "duration": 85,
    "start_time": "2022-04-02T09:32:18.129Z"
   },
   {
    "duration": 11706,
    "start_time": "2022-04-02T09:32:19.772Z"
   },
   {
    "duration": 4446,
    "start_time": "2022-04-02T09:32:31.481Z"
   },
   {
    "duration": 7,
    "start_time": "2022-04-02T09:32:45.235Z"
   },
   {
    "duration": 85,
    "start_time": "2022-04-02T09:32:45.681Z"
   },
   {
    "duration": 12623,
    "start_time": "2022-04-02T09:33:19.456Z"
   },
   {
    "duration": 6,
    "start_time": "2022-04-02T09:33:39.533Z"
   },
   {
    "duration": 11860,
    "start_time": "2022-04-02T09:34:25.958Z"
   },
   {
    "duration": 23,
    "start_time": "2022-04-02T09:34:37.821Z"
   },
   {
    "duration": 15,
    "start_time": "2022-04-02T09:40:56.280Z"
   },
   {
    "duration": 15,
    "start_time": "2022-04-02T09:41:24.429Z"
   },
   {
    "duration": 16,
    "start_time": "2022-04-02T09:41:30.293Z"
   },
   {
    "duration": 16560,
    "start_time": "2022-04-02T09:42:05.787Z"
   },
   {
    "duration": 0,
    "start_time": "2022-04-02T09:42:22.350Z"
   },
   {
    "duration": 20915,
    "start_time": "2022-04-02T09:42:23.550Z"
   },
   {
    "duration": 15,
    "start_time": "2022-04-02T09:42:44.467Z"
   },
   {
    "duration": 5,
    "start_time": "2022-04-02T09:43:10.176Z"
   },
   {
    "duration": 16,
    "start_time": "2022-04-02T09:43:11.518Z"
   },
   {
    "duration": 17,
    "start_time": "2022-04-02T09:43:29.072Z"
   },
   {
    "duration": 19,
    "start_time": "2022-04-02T09:45:37.768Z"
   },
   {
    "duration": 17,
    "start_time": "2022-04-02T09:45:41.152Z"
   },
   {
    "duration": 16,
    "start_time": "2022-04-02T09:46:59.664Z"
   },
   {
    "duration": 2035,
    "start_time": "2022-04-02T09:54:34.232Z"
   },
   {
    "duration": 8,
    "start_time": "2022-04-02T09:54:36.270Z"
   },
   {
    "duration": 473,
    "start_time": "2022-04-02T09:54:36.280Z"
   },
   {
    "duration": 119,
    "start_time": "2022-04-02T09:54:36.756Z"
   },
   {
    "duration": 1377,
    "start_time": "2022-04-02T09:54:36.878Z"
   },
   {
    "duration": 2093,
    "start_time": "2022-04-02T09:54:38.257Z"
   },
   {
    "duration": 26,
    "start_time": "2022-04-02T09:54:40.352Z"
   },
   {
    "duration": 78,
    "start_time": "2022-04-02T09:54:40.380Z"
   },
   {
    "duration": 2485,
    "start_time": "2022-04-02T09:54:40.460Z"
   },
   {
    "duration": 13897,
    "start_time": "2022-04-02T09:54:42.951Z"
   },
   {
    "duration": 300,
    "start_time": "2022-04-02T09:54:56.850Z"
   },
   {
    "duration": 97,
    "start_time": "2022-04-02T09:54:57.154Z"
   },
   {
    "duration": 1455,
    "start_time": "2022-04-02T09:54:57.343Z"
   },
   {
    "duration": 16,
    "start_time": "2022-04-02T09:54:58.800Z"
   },
   {
    "duration": 29,
    "start_time": "2022-04-02T09:54:58.818Z"
   },
   {
    "duration": 30,
    "start_time": "2022-04-02T09:54:58.849Z"
   },
   {
    "duration": 6,
    "start_time": "2022-04-02T09:54:58.881Z"
   },
   {
    "duration": 112,
    "start_time": "2022-04-02T09:54:58.889Z"
   },
   {
    "duration": 4,
    "start_time": "2022-04-02T09:55:21.774Z"
   },
   {
    "duration": 1452,
    "start_time": "2022-04-02T09:55:21.802Z"
   },
   {
    "duration": 0,
    "start_time": "2022-04-02T09:55:23.257Z"
   },
   {
    "duration": 21055,
    "start_time": "2022-04-02T09:55:24.658Z"
   },
   {
    "duration": 33,
    "start_time": "2022-04-02T09:55:45.716Z"
   },
   {
    "duration": 2454,
    "start_time": "2022-04-02T09:56:30.023Z"
   },
   {
    "duration": 8,
    "start_time": "2022-04-02T09:56:32.480Z"
   },
   {
    "duration": 536,
    "start_time": "2022-04-02T09:56:32.491Z"
   },
   {
    "duration": 139,
    "start_time": "2022-04-02T09:56:33.044Z"
   },
   {
    "duration": 1459,
    "start_time": "2022-04-02T09:56:33.186Z"
   },
   {
    "duration": 2095,
    "start_time": "2022-04-02T09:56:34.648Z"
   },
   {
    "duration": 27,
    "start_time": "2022-04-02T09:56:36.745Z"
   },
   {
    "duration": 80,
    "start_time": "2022-04-02T09:56:36.775Z"
   },
   {
    "duration": 2286,
    "start_time": "2022-04-02T09:56:36.857Z"
   },
   {
    "duration": 13464,
    "start_time": "2022-04-02T09:56:39.149Z"
   },
   {
    "duration": 134,
    "start_time": "2022-04-02T09:56:52.616Z"
   },
   {
    "duration": 191,
    "start_time": "2022-04-02T09:56:52.752Z"
   },
   {
    "duration": 1425,
    "start_time": "2022-04-02T09:56:52.945Z"
   },
   {
    "duration": 17,
    "start_time": "2022-04-02T09:56:54.372Z"
   },
   {
    "duration": 30,
    "start_time": "2022-04-02T09:56:54.391Z"
   },
   {
    "duration": 45,
    "start_time": "2022-04-02T09:56:54.424Z"
   },
   {
    "duration": 28,
    "start_time": "2022-04-02T09:56:54.471Z"
   },
   {
    "duration": 115,
    "start_time": "2022-04-02T09:56:54.501Z"
   },
   {
    "duration": 21729,
    "start_time": "2022-04-02T09:56:54.618Z"
   },
   {
    "duration": 15,
    "start_time": "2022-04-02T09:57:16.349Z"
   },
   {
    "duration": 1709,
    "start_time": "2022-04-20T05:40:02.382Z"
   },
   {
    "duration": 7,
    "start_time": "2022-04-20T05:40:04.093Z"
   },
   {
    "duration": 411,
    "start_time": "2022-04-20T05:40:04.101Z"
   },
   {
    "duration": 109,
    "start_time": "2022-04-20T05:40:04.514Z"
   },
   {
    "duration": 988,
    "start_time": "2022-04-20T05:40:04.626Z"
   },
   {
    "duration": 1440,
    "start_time": "2022-04-20T05:40:05.616Z"
   },
   {
    "duration": 31,
    "start_time": "2022-04-20T05:40:07.058Z"
   },
   {
    "duration": 49,
    "start_time": "2022-04-20T05:40:07.091Z"
   },
   {
    "duration": 2231,
    "start_time": "2022-04-20T05:40:07.142Z"
   },
   {
    "duration": 11557,
    "start_time": "2022-04-20T05:40:09.376Z"
   },
   {
    "duration": 141,
    "start_time": "2022-04-20T05:40:20.935Z"
   },
   {
    "duration": 96,
    "start_time": "2022-04-20T05:40:21.078Z"
   },
   {
    "duration": 1115,
    "start_time": "2022-04-20T05:40:21.177Z"
   },
   {
    "duration": 15,
    "start_time": "2022-04-20T05:40:22.296Z"
   },
   {
    "duration": 15,
    "start_time": "2022-04-20T05:40:22.313Z"
   },
   {
    "duration": 43,
    "start_time": "2022-04-20T05:40:22.330Z"
   },
   {
    "duration": 10,
    "start_time": "2022-04-20T05:40:22.376Z"
   },
   {
    "duration": 91,
    "start_time": "2022-04-20T05:40:22.388Z"
   },
   {
    "duration": 16206,
    "start_time": "2022-04-20T05:40:22.480Z"
   },
   {
    "duration": 11,
    "start_time": "2022-04-20T05:40:38.688Z"
   },
   {
    "duration": 5,
    "start_time": "2022-04-21T07:00:58.680Z"
   },
   {
    "duration": 17,
    "start_time": "2022-04-21T07:00:58.687Z"
   },
   {
    "duration": 398,
    "start_time": "2022-04-21T07:00:58.706Z"
   },
   {
    "duration": 100,
    "start_time": "2022-04-21T07:00:59.106Z"
   },
   {
    "duration": 853,
    "start_time": "2022-04-21T07:00:59.208Z"
   },
   {
    "duration": 1531,
    "start_time": "2022-04-21T07:01:00.062Z"
   },
   {
    "duration": 23,
    "start_time": "2022-04-21T07:01:01.594Z"
   },
   {
    "duration": 57,
    "start_time": "2022-04-21T07:01:01.619Z"
   },
   {
    "duration": 1597,
    "start_time": "2022-04-21T07:01:01.678Z"
   },
   {
    "duration": 12041,
    "start_time": "2022-04-21T07:01:03.283Z"
   },
   {
    "duration": 258,
    "start_time": "2022-04-21T07:01:15.325Z"
   },
   {
    "duration": 91,
    "start_time": "2022-04-21T07:01:15.585Z"
   },
   {
    "duration": 1146,
    "start_time": "2022-04-21T07:01:15.678Z"
   },
   {
    "duration": 13,
    "start_time": "2022-04-21T07:01:16.826Z"
   },
   {
    "duration": 10,
    "start_time": "2022-04-21T07:01:16.841Z"
   },
   {
    "duration": 18,
    "start_time": "2022-04-21T07:01:16.873Z"
   },
   {
    "duration": 18,
    "start_time": "2022-04-21T07:01:30.512Z"
   },
   {
    "duration": 4,
    "start_time": "2022-04-21T07:01:32.689Z"
   },
   {
    "duration": 34,
    "start_time": "2022-04-21T07:01:34.506Z"
   },
   {
    "duration": 3961,
    "start_time": "2022-04-21T07:01:36.802Z"
   },
   {
    "duration": 14,
    "start_time": "2022-04-21T07:01:40.765Z"
   },
   {
    "duration": 2669,
    "start_time": "2022-04-25T07:10:22.779Z"
   },
   {
    "duration": 8,
    "start_time": "2022-04-25T07:10:25.452Z"
   },
   {
    "duration": 448,
    "start_time": "2022-04-25T07:10:25.462Z"
   },
   {
    "duration": 115,
    "start_time": "2022-04-25T07:10:25.924Z"
   },
   {
    "duration": 1512,
    "start_time": "2022-04-25T07:10:26.041Z"
   },
   {
    "duration": 2021,
    "start_time": "2022-04-25T07:10:27.555Z"
   },
   {
    "duration": 19,
    "start_time": "2022-04-25T07:10:29.577Z"
   },
   {
    "duration": 63,
    "start_time": "2022-04-25T07:10:29.597Z"
   },
   {
    "duration": 1689,
    "start_time": "2022-04-25T07:10:29.661Z"
   },
   {
    "duration": 9791,
    "start_time": "2022-04-25T07:10:31.425Z"
   },
   {
    "duration": 315,
    "start_time": "2022-04-25T07:10:41.223Z"
   },
   {
    "duration": 89,
    "start_time": "2022-04-25T07:10:41.543Z"
   },
   {
    "duration": 1501,
    "start_time": "2022-04-25T07:10:41.638Z"
   },
   {
    "duration": 18,
    "start_time": "2022-04-25T07:10:43.143Z"
   },
   {
    "duration": 67,
    "start_time": "2022-04-25T07:10:43.163Z"
   },
   {
    "duration": 30,
    "start_time": "2022-04-25T07:10:43.232Z"
   },
   {
    "duration": 6,
    "start_time": "2022-04-25T07:10:43.264Z"
   },
   {
    "duration": 155,
    "start_time": "2022-04-25T07:10:43.272Z"
   },
   {
    "duration": 4466,
    "start_time": "2022-04-25T07:10:43.429Z"
   },
   {
    "duration": 10,
    "start_time": "2022-04-25T07:10:47.897Z"
   },
   {
    "duration": 1515,
    "start_time": "2022-11-08T13:39:08.736Z"
   },
   {
    "duration": 10,
    "start_time": "2022-11-08T13:39:10.253Z"
   },
   {
    "duration": 878,
    "start_time": "2022-11-08T13:39:10.559Z"
   },
   {
    "duration": 81,
    "start_time": "2022-11-08T13:39:12.996Z"
   },
   {
    "duration": 1377,
    "start_time": "2022-11-08T13:43:08.368Z"
   },
   {
    "duration": 1503,
    "start_time": "2022-11-09T06:54:51.139Z"
   },
   {
    "duration": 6,
    "start_time": "2022-11-09T06:54:52.645Z"
   },
   {
    "duration": 870,
    "start_time": "2022-11-09T06:54:52.652Z"
   },
   {
    "duration": 86,
    "start_time": "2022-11-09T06:54:53.524Z"
   },
   {
    "duration": 844,
    "start_time": "2022-11-09T06:54:53.613Z"
   },
   {
    "duration": 1361,
    "start_time": "2022-11-09T06:54:54.459Z"
   },
   {
    "duration": 22,
    "start_time": "2022-11-09T06:54:55.822Z"
   },
   {
    "duration": 56,
    "start_time": "2022-11-09T06:54:55.846Z"
   },
   {
    "duration": 1585,
    "start_time": "2022-11-09T06:54:55.904Z"
   },
   {
    "duration": 10225,
    "start_time": "2022-11-09T06:54:57.492Z"
   },
   {
    "duration": 84,
    "start_time": "2022-11-09T06:55:07.718Z"
   },
   {
    "duration": 85,
    "start_time": "2022-11-09T06:55:07.804Z"
   },
   {
    "duration": 1131,
    "start_time": "2022-11-09T06:55:07.892Z"
   },
   {
    "duration": 12,
    "start_time": "2022-11-09T06:55:09.024Z"
   },
   {
    "duration": 68,
    "start_time": "2022-11-09T06:55:09.038Z"
   },
   {
    "duration": 54,
    "start_time": "2022-11-09T06:55:09.108Z"
   },
   {
    "duration": 21,
    "start_time": "2022-11-09T06:55:09.165Z"
   },
   {
    "duration": 58,
    "start_time": "2022-11-09T06:55:09.187Z"
   },
   {
    "duration": 3847,
    "start_time": "2022-11-09T06:55:09.247Z"
   },
   {
    "duration": 11,
    "start_time": "2022-11-09T06:55:13.096Z"
   },
   {
    "duration": 10,
    "start_time": "2022-11-09T06:59:43.516Z"
   },
   {
    "duration": 13,
    "start_time": "2022-11-09T07:00:06.758Z"
   }
  ],
  "kernelspec": {
   "display_name": "Python 3 (ipykernel)",
   "language": "python",
   "name": "python3"
  },
  "language_info": {
   "codemirror_mode": {
    "name": "ipython",
    "version": 3
   },
   "file_extension": ".py",
   "mimetype": "text/x-python",
   "name": "python",
   "nbconvert_exporter": "python",
   "pygments_lexer": "ipython3",
   "version": "3.9.5"
  },
  "toc": {
   "base_numbering": 1,
   "nav_menu": {},
   "number_sections": true,
   "sideBar": true,
   "skip_h1_title": true,
   "title_cell": "Table of Contents",
   "title_sidebar": "Contents",
   "toc_cell": true,
   "toc_position": {
    "height": "calc(100% - 180px)",
    "left": "10px",
    "top": "150px",
    "width": "352.002px"
   },
   "toc_section_display": true,
   "toc_window_display": true
  }
 },
 "nbformat": 4,
 "nbformat_minor": 2
}
